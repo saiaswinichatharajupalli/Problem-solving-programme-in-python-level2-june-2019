{
 "cells": [
  {
   "cell_type": "markdown",
   "metadata": {},
   "source": [
    "### Find the product\n",
    "\n",
    "You have been given an array A of size N consisting of positive integers.\n",
    "\n",
    "You need to find and print the product of all the number in this array Modulo 10^9+7."
   ]
  },
  {
   "cell_type": "code",
   "execution_count": 4,
   "metadata": {},
   "outputs": [
    {
     "name": "stdout",
     "output_type": "stream",
     "text": [
      "1000\n",
      "8553744896\n"
     ]
    }
   ],
   "source": [
    "def findproduct(n):\n",
    "    answer=1\n",
    "    l=[]\n",
    "    for i in range (1,n+1):\n",
    "        l.append(i)\n",
    "    for j in l:\n",
    "        answer=(answer*(j))%(10000000007)\n",
    "    print(answer)\n",
    "n=int(input())\n",
    "findproduct(n)"
   ]
  },
  {
   "cell_type": "markdown",
   "metadata": {},
   "source": [
    "### Ali and innocent helping \n",
    "He knows that a tag is valid if the sum of every two consecutive digits of it is even and its letter is not a vowel. Determine if the tag of the truck is valid or not.\n",
    "\n",
    "**Input Format**\n",
    "\n",
    "The first line contains a string of length 9. The format is \"DDXDDD-DD\", where D stands for a digit (non zero) and X is an uppercase english letter.\n",
    "\n",
    "**Output Format**\n",
    "\n",
    "Print \"valid\" (without quotes) if the tag is valid, print \"invalid\" otherwise (without quotes)"
   ]
  },
  {
   "cell_type": "code",
   "execution_count": 5,
   "metadata": {},
   "outputs": [
    {
     "name": "stdout",
     "output_type": "stream",
     "text": [
      "12X345-99\n",
      "invalid\n"
     ]
    }
   ],
   "source": [
    "s=input()\n",
    "c=8\n",
    "for i in range(0,len(s)-1,1):\n",
    "    if s[i].isdigit()==True and s[i+1].isdigit()==True:\n",
    "        if (int(s[i])+int(s[i+1]))%2!=0:\n",
    "            c=0\n",
    "            print(\"invalid\")\n",
    "            break\n",
    "    elif (s[i].isalpha()==True) and s[i]!=\"X\" and s[i]!=\"B\":\n",
    "        if s[i]==\"A\" or \"E\" or \"I\" or \"O\" or \"U\" or \"a\" or \"e\" or \"i\" or \"o\"or \"u\":\n",
    "            c=0\n",
    "            print(\"invalid\")\n",
    "            break\n",
    "if(c!=0):\n",
    "    print(\"vaild\")\n",
    "     "
   ]
  },
  {
   "cell_type": "markdown",
   "metadata": {},
   "source": [
    "### Bricks Game\n",
    "They to follow a simple rule, In the i'th round, Patlu puts i bricks whereas Motu puts ix2 bricks.\n",
    "\n",
    "There are only N bricks, you need to help find the challenge result to find who put the last brick."
   ]
  },
  {
   "cell_type": "code",
   "execution_count": 6,
   "metadata": {},
   "outputs": [
    {
     "name": "stdout",
     "output_type": "stream",
     "text": [
      "5\n",
      "Patlu\n"
     ]
    }
   ],
   "source": [
    "# Brick gane\n",
    "N=int(input())\n",
    "t=0\n",
    "for i in range(1,N):\n",
    "    if(t==N):\n",
    "         break\n",
    "    t+=i\n",
    "    a=\"Patlu\"\n",
    "    if(t==N):\n",
    "         break\n",
    "    t+=i*2\n",
    "    a=\"Motu\"\n",
    "print(a)"
   ]
  },
  {
   "cell_type": "code",
   "execution_count": null,
   "metadata": {},
   "outputs": [],
   "source": []
  }
 ],
 "metadata": {
  "kernelspec": {
   "display_name": "Python 3",
   "language": "python",
   "name": "python3"
  },
  "language_info": {
   "codemirror_mode": {
    "name": "ipython",
    "version": 3
   },
   "file_extension": ".py",
   "mimetype": "text/x-python",
   "name": "python",
   "nbconvert_exporter": "python",
   "pygments_lexer": "ipython3",
   "version": "3.7.3"
  }
 },
 "nbformat": 4,
 "nbformat_minor": 2
}
