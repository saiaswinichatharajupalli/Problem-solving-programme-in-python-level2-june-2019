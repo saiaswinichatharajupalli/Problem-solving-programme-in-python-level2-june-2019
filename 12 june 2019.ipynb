{
 "cells": [
  {
   "cell_type": "markdown",
   "metadata": {},
   "source": [
    "# Problem Solving and programming\n",
    "\n",
    "### Data 12 june 2019\n",
    "\n",
    "###Day Objectives\n",
    "\n",
    "    \n",
    "    - String Slicing\n",
    "    - Functions in Python\n",
    "    - Basic Problems related to conditional statements using functions\n",
    "    - Iteration in Python\n",
    "    - Problem set for practice\n",
    "\n",
    "    \n"
   ]
  },
  {
   "cell_type": "code",
   "execution_count": null,
   "metadata": {},
   "outputs": [],
   "source": []
  },
  {
   "cell_type": "markdown",
   "metadata": {},
   "source": [
    "# string silicing"
   ]
  },
  {
   "cell_type": "code",
   "execution_count": 58,
   "metadata": {},
   "outputs": [
    {
     "data": {
      "text/plain": [
       "'nhy'"
      ]
     },
     "execution_count": 58,
     "metadata": {},
     "output_type": "execute_result"
    }
   ],
   "source": [
    "s1 = \"python\"\n",
    "\n",
    "s1[0]      # Accessing the first character in a string\n",
    "\n",
    "s1[1]       # Accessing the second character in a string\n",
    "\n",
    "s1[-1]       # Accessing the last character in string\n",
    "\n",
    "s1[len(s1)-1] # Accessing the last character in the another way\n",
    "\n",
    "s1[-2]         # Accessing the penultimate character of the string\n",
    "\n",
    "s1[-2:len(s1)]  # Accessing the  two or more character of the string\n",
    "\n",
    "#Accessing all character first and last charater\n",
    "s1[1:-1]\n",
    "# Accessing the middle charater in a string\n",
    "s1[len(s1)//2]\n",
    "\n",
    "# Reverse of the string\n",
    "s1[ -1: :-1 ]\n",
    "\n",
    "#Access last two charater in reverse of string\n",
    "\n",
    "s1[-1:-4:-1]\n",
    "\n",
    "# How do you reverse the middle two characters in an even length string \n",
    "\n",
    "s1[len(s1)//2:len(s1)//2-2:-1]\n",
    "\n",
    "#Accessing alternate charaters in a string\n",
    "# \"python\" -> \"pto\"\n",
    "s1[::2]\n",
    "\n",
    "\n",
    "# Accessing alternate charaters of a string in reverse of a string\n",
    "#\"python\" ->  \"nhy\"\n",
    "s1[::-2]\n"
   ]
  },
  {
   "cell_type": "markdown",
   "metadata": {},
   "source": [
    "### Functions"
   ]
  },
  {
   "cell_type": "code",
   "execution_count": 60,
   "metadata": {},
   "outputs": [
    {
     "data": {
      "text/plain": [
       "'nohtyP'"
      ]
     },
     "execution_count": 60,
     "metadata": {},
     "output_type": "execute_result"
    }
   ],
   "source": [
    "# Function to reverse a string\n",
    "def reverseString(s):\n",
    "    return s[::-1]\n",
    "  \n",
    "\n",
    "reverseString(\"Python\")"
   ]
  },
  {
   "cell_type": "code",
   "execution_count": 67,
   "metadata": {},
   "outputs": [
    {
     "data": {
      "text/plain": [
       "True"
      ]
     },
     "execution_count": 67,
     "metadata": {},
     "output_type": "execute_result"
    }
   ],
   "source": [
    "#Function to check if a string is a palindrome\n",
    "def palindrome(s):\n",
    "    if s == s[::-1]:\n",
    "        return True\n",
    "    else:\n",
    "        return False\n",
    "palindrome(\"123321\")"
   ]
  },
  {
   "cell_type": "code",
   "execution_count": 92,
   "metadata": {},
   "outputs": [
    {
     "data": {
      "text/plain": [
       "False"
      ]
     },
     "execution_count": 92,
     "metadata": {},
     "output_type": "execute_result"
    }
   ],
   "source": [
    "# Function to check if a year is leap year or not \n",
    "def leapyear(year):\n",
    "    if year%400 == 0 or (year%4 == 0 and year%100!= 0):\n",
    "        return True\n",
    "    else:\n",
    "        return False\n",
    "leapyear(2019)"
   ]
  },
  {
   "cell_type": "code",
   "execution_count": 84,
   "metadata": {},
   "outputs": [
    {
     "data": {
      "text/plain": [
       "6"
      ]
     },
     "execution_count": 84,
     "metadata": {},
     "output_type": "execute_result"
    }
   ],
   "source": [
    "# Function to count the number of digits in a given number\n",
    "def countdigits(s):\n",
    "    return len(str(s))\n",
    "countdigits(123123)"
   ]
  },
  {
   "cell_type": "code",
   "execution_count": 88,
   "metadata": {},
   "outputs": [
    {
     "data": {
      "text/plain": [
       "346"
      ]
     },
     "execution_count": 88,
     "metadata": {},
     "output_type": "execute_result"
    }
   ],
   "source": [
    "# Function to identify the greatest of 4 numbers\n",
    "def greatest(s,r,t,u):\n",
    "    if s > r and s > t and s > u:\n",
    "        return s \n",
    "    elif r > t and r > u :\n",
    "        return r \n",
    "    elif t > u :\n",
    "         return t\n",
    "    else:\n",
    "        return u\n",
    "greatest(123,243,345,346)\n",
    "        "
   ]
  },
  {
   "cell_type": "code",
   "execution_count": null,
   "metadata": {},
   "outputs": [],
   "source": []
  },
  {
   "cell_type": "markdown",
   "metadata": {},
   "source": [
    "### Iteration\n",
    "- for\n",
    "- while\n",
    "\n",
    "\n",
    "\n",
    "###For Loop In Python\n",
    "\n",
    "\n",
    "[101,210]\n",
    "\n",
    "for number in range(101,211)\n",
    "        print number\n",
    "o/p:-\n",
    "\n",
    "101\n",
    "102\n",
    ".\n",
    ".\n",
    ".\n",
    "210"
   ]
  },
  {
   "cell_type": "code",
   "execution_count": 91,
   "metadata": {},
   "outputs": [
    {
     "name": "stdout",
     "output_type": "stream",
     "text": [
      "1 2 3 4 5 6 7 8 9 10 11 12 13 14 15 16 17 18 19 20 21 22 23 24 25 26 27 28 29 30 31 32 33 34 35 36 37 38 39 40 41 42 43 44 45 46 47 48 49 50 "
     ]
    }
   ],
   "source": [
    "# Functions to print n numbers \n",
    "def printNaturalNumbers(n):\n",
    "    for counter in range(1, n+1):\n",
    "        print (counter, end=\" \")\n",
    "    return\n",
    "printNaturalNumbers(50)\n"
   ]
  },
  {
   "cell_type": "code",
   "execution_count": 15,
   "metadata": {},
   "outputs": [
    {
     "name": "stdout",
     "output_type": "stream",
     "text": [
      "odd number 1\n",
      "even number 2\n",
      "odd number 3\n",
      "even number 4\n",
      "odd number 5\n",
      "even number 6\n",
      "odd number 7\n",
      "even number 8\n",
      "odd number 9\n",
      "even number 10\n",
      "odd number 11\n",
      "even number 12\n",
      "odd number 13\n",
      "even number 14\n",
      "odd number 15\n",
      "even number 16\n",
      "odd number 17\n",
      "even number 18\n",
      "odd number 19\n",
      "even number 20\n",
      "odd number 21\n",
      "even number 22\n",
      "odd number 23\n",
      "even number 24\n",
      "odd number 25\n",
      "even number 26\n",
      "odd number 27\n",
      "even number 28\n",
      "odd number 29\n",
      "even number 30\n"
     ]
    }
   ],
   "source": [
    "# Functions to print odd numbers\n",
    "def printoddnumbers(n):\n",
    "    for i  in range(1, n+1):\n",
    "        if i%2==0:\n",
    "             print (\"even number\", i)         \n",
    "        else:\n",
    "            print (\"odd number\", i)\n",
    "    return\n",
    "     \n",
    "    \n",
    "printoddnumbers(30)\n",
    "            \n",
    "    "
   ]
  },
  {
   "cell_type": "code",
   "execution_count": 1,
   "metadata": {},
   "outputs": [
    {
     "name": "stdout",
     "output_type": "stream",
     "text": [
      "1 2 3 4 5 6 7 8 9 10 11 12 13 14 15 16 17 18 19 20 21 22 23 24 25 26 27 28 29 30 "
     ]
    }
   ],
   "source": [
    "# Function to print N naturals using a while loop\n",
    "\n",
    "def nNaturalnumbers(n):\n",
    "    counter = 1\n",
    "    while counter <= n:\n",
    "        print (counter, end = \" \")\n",
    "        counter = counter + 1\n",
    "    return\n",
    "    \n",
    "    \n",
    "nNaturalnumbers(30)"
   ]
  },
  {
   "cell_type": "code",
   "execution_count": 11,
   "metadata": {},
   "outputs": [
    {
     "name": "stdout",
     "output_type": "stream",
     "text": [
      "12 18 24 30 36 42 48 54 60 66 72 78 84 90 96 102 108 114 120 126 132 138 144 150 156 162 168 174 180 186 192 198 204 210 216 222 228 234 240 246 252 258 264 270 276 282 288 294 306 312 318 324 330 336 342 348 354 360 366 372 378 384 390 396 402 408 414 420 426 432 438 444 450 456 462 468 474 480 486 492 498 504 510 516 522 528 534 540 546 552 558 564 570 576 582 588 594 606 612 618 624 630 636 642 648 654 660 666 672 678 684 690 696 702 708 714 720 726 732 738 744 750 756 762 768 774 780 786 792 798 804 810 816 822 828 834 840 846 852 858 864 870 876 882 888 894 906 912 918 924 930 936 942 948 954 960 966 972 978 984 990 996 "
     ]
    }
   ],
   "source": [
    "#Function to print all numbers divisible by 6 and not a fator of 100 in given range(lb,ub) inclusive\n",
    "def Numbersdivisibleby6(lb,ub):\n",
    "    \n",
    "    for i in range(lb,ub):\n",
    "        if i%6 == 0 and i%100!=0:\n",
    "            print (i, end =\" \")\n",
    "    return\n",
    "\n",
    "Numbersdivisibleby6(10,1000)\n",
    "            "
   ]
  },
  {
   "cell_type": "code",
   "execution_count": 10,
   "metadata": {},
   "outputs": [
    {
     "name": "stdout",
     "output_type": "stream",
     "text": [
      "14400.0 "
     ]
    }
   ],
   "source": [
    "# Function to find the average of  cubes of all even numbers in a given range(lb,up) inclusive\n",
    "def Average(lb,ub):\n",
    "    count=0\n",
    "    tem=0\n",
    "    for i in range(lb,ub):\n",
    "        if i%2==0:\n",
    "            tem = tem + i ** 3\n",
    "            count = count+1\n",
    "    print(tem/count, end=\" \")             \n",
    "    return\n",
    "Average(20,30)"
   ]
  },
  {
   "cell_type": "code",
   "execution_count": 14,
   "metadata": {},
   "outputs": [
    {
     "name": "stdout",
     "output_type": "stream",
     "text": [
      "479001600 "
     ]
    }
   ],
   "source": [
    "#Function to calculate the factorial of a given number\n",
    "def factorial(n):\n",
    "    fact=1\n",
    "    for i in range(1, n+1):\n",
    "        fact=fact*i\n",
    "    print (fact, end=\" \")\n",
    "    return\n",
    "factorial(12)\n",
    "    "
   ]
  },
  {
   "cell_type": "code",
   "execution_count": 6,
   "metadata": {},
   "outputs": [
    {
     "data": {
      "text/plain": [
       "True"
      ]
     },
     "execution_count": 6,
     "metadata": {},
     "output_type": "execute_result"
    }
   ],
   "source": [
    "#Function to check given number is prime \n",
    "def prime(n):\n",
    "    for i in range(2,n):\n",
    "         if n%i==0:\n",
    "            return False\n",
    "    return True\n",
    "    \n",
    "prime(5)\n",
    "\n"
   ]
  },
  {
   "cell_type": "code",
   "execution_count": 47,
   "metadata": {},
   "outputs": [
    {
     "data": {
      "text/plain": [
       "3.6"
      ]
     },
     "execution_count": 47,
     "metadata": {},
     "output_type": "execute_result"
    }
   ],
   "source": [
    "# Function calculate the average of first N prime numbers\n",
    "\n",
    "def avgNprime(i):\n",
    "    count = 0\n",
    "    sum = 0\n",
    "    avg = 0\n",
    "    for n in range(1,i+1):\n",
    "        if prime(n):\n",
    "            sum = sum + n\n",
    "            count = count+1\n",
    "            avg = sum /count\n",
    "    return avg\n",
    "\n",
    "avgNprime(10)"
   ]
  },
  {
   "cell_type": "code",
   "execution_count": 5,
   "metadata": {},
   "outputs": [
    {
     "name": "stdout",
     "output_type": "stream",
     "text": [
      "6 28 "
     ]
    }
   ],
   "source": [
    "# Function generate all perfect numbers in a given range\n",
    "def perfectnum(n):\n",
    "    sum = 0\n",
    "    for i in range(1,n):\n",
    "        if n%i==0:\n",
    "            sum = sum + i\n",
    "    if sum==n:\n",
    "        return True\n",
    "    return False\n",
    "  \n",
    "    \n",
    "    \n",
    "def generateperfect(lb,ub):\n",
    "    for n in range(lb,ub+1):\n",
    "        if perfectnum(n):\n",
    "            print (n,end=\" \")\n",
    "    return\n",
    "\n",
    "generateperfect(2,50)\n",
    "            \n",
    "               \n"
   ]
  },
  {
   "cell_type": "code",
   "execution_count": 78,
   "metadata": {},
   "outputs": [
    {
     "name": "stdout",
     "output_type": "stream",
     "text": [
      "1 2 3 4 5 6 8 10 12 15 20 24 30 40 60 120 "
     ]
    }
   ],
   "source": [
    "# Function generate factors of given numbers \n",
    "#12- 2,4,6,12\n",
    "def factors(n):\n",
    "    for i in range(1,n+1):\n",
    "        if n%i == 0:\n",
    "            print(i, end =\" \")\n",
    "    return\n",
    "\n",
    "factors(120)"
   ]
  },
  {
   "cell_type": "code",
   "execution_count": 4,
   "metadata": {},
   "outputs": [
    {
     "name": "stdout",
     "output_type": "stream",
     "text": [
      "500 502 504 506 508 510 512 514 516 518 520 522 524 526 528 530 532 534 "
     ]
    }
   ],
   "source": [
    "# Function to print the reverse range in the same line\n",
    "# [500,550]   -> 500 502 504.........550\n",
    "#(500,550)    -> 501 503 505.........549\n",
    "#range(500,550) ->500 502 504.........548\n",
    "def alternativenumbers(lb,ub):\n",
    "    for i in range(lb,ub+1, 2):\n",
    "        print (i, end=\" \")\n",
    "    return\n",
    "\n",
    "alternativenumbers(500,534)\n",
    "       "
   ]
  },
  {
   "cell_type": "code",
   "execution_count": 6,
   "metadata": {},
   "outputs": [
    {
     "name": "stdout",
     "output_type": "stream",
     "text": [
      "525 524 523 522 521 520 519 518 517 516 515 514 513 512 511 510 509 508 507 506 505 504 503 502 501 500 "
     ]
    }
   ],
   "source": [
    "#Function to print reverse of given range in the same line\n",
    "def reverse(lb,ub):\n",
    "    for i in range(ub,lb-1,-1):\n",
    "        print (i,end=\" \")\n",
    "    return\n",
    "\n",
    "reverse(500,525)\n",
    "    "
   ]
  },
  {
   "cell_type": "code",
   "execution_count": 7,
   "metadata": {},
   "outputs": [
    {
     "name": "stdout",
     "output_type": "stream",
     "text": [
      "525 523 521 519 517 515 513 511 509 507 505 503 501 "
     ]
    }
   ],
   "source": [
    "# function to print odd numbers in reverse order\n",
    "def reverseoddnumbers(lb,ub):\n",
    "    for i in range (ub,lb-1,-1):\n",
    "        if i%2!=0:\n",
    "            print (i, end=\" \")\n",
    "    return \n",
    "reverseoddnumbers(500,525)\n",
    "  "
   ]
  },
  {
   "cell_type": "code",
   "execution_count": 54,
   "metadata": {},
   "outputs": [
    {
     "data": {
      "text/plain": [
       "15150"
      ]
     },
     "execution_count": 54,
     "metadata": {},
     "output_type": "execute_result"
    }
   ],
   "source": [
    "#Function to calculte the sum of numbers in a range\n",
    "def sumofthenumbers(lb,ub):\n",
    "        sum1 = 0\n",
    "        for i in range(lb,ub+1):\n",
    "            sum1 = sum1 + i\n",
    "        return sum1\n",
    "    \n",
    "    \n",
    "    \n",
    "sumofthenumbers(100,200)"
   ]
  },
  {
   "cell_type": "code",
   "execution_count": 60,
   "metadata": {},
   "outputs": [
    {
     "data": {
      "text/plain": [
       "28.5"
      ]
     },
     "execution_count": 60,
     "metadata": {},
     "output_type": "execute_result"
    }
   ],
   "source": [
    "#Function  to calculate average of a given range\n",
    "def Averageofnumbers(lb,ub):\n",
    "    sum1 = 0\n",
    "    count = 0\n",
    "    avg = 0\n",
    "    for i in range(lb,ub+1):\n",
    "        sum1 = sum1+i\n",
    "        count = count+1\n",
    "        avg = sum1/count\n",
    "    return avg\n",
    "\n",
    "Averageofnumbers(12,45)"
   ]
  },
  {
   "cell_type": "code",
   "execution_count": 5,
   "metadata": {},
   "outputs": [
    {
     "data": {
      "text/plain": [
       "False"
      ]
     },
     "execution_count": 5,
     "metadata": {},
     "output_type": "execute_result"
    }
   ],
   "source": [
    "# FUnction to generate the leap years in given time period\n",
    "def Leapyear(year):\n",
    "        if year%400 == 0 or (year%4 == 0 and year%100!=0):\n",
    "            return True\n",
    "        else:\n",
    "            return  False\n",
    "\n",
    "def genreateleapyear(ly,uy):\n",
    "    for year in range(ly,uy+1):\n",
    "        if Leapyear(year):\n",
    "            print (year,end=\" \")\n",
    "    return\n",
    "\n",
    "Leapyear(2017)"
   ]
  },
  {
   "cell_type": "code",
   "execution_count": 6,
   "metadata": {},
   "outputs": [
    {
     "name": "stdout",
     "output_type": "stream",
     "text": [
      "204 208 212 216 220 224 228 232 236 240 244 248 252 256 260 264 268 272 276 280 284 288 292 296 304 308 312 316 320 324 328 332 336 340 344 348 352 356 360 364 368 372 376 380 384 388 392 396 400 404 408 412 416 420 424 428 432 436 440 444 448 452 456 460 464 468 472 476 480 484 488 492 496 504 508 512 516 520 524 528 532 536 540 544 548 552 556 560 564 568 572 576 580 584 588 592 596 604 608 612 616 620 624 628 632 636 640 644 648 652 656 660 664 668 672 676 680 684 688 692 696 704 708 712 716 720 724 728 732 736 740 744 748 752 756 760 764 768 772 776 780 784 788 792 796 800 804 808 812 816 820 824 828 832 836 840 844 848 852 856 860 864 868 872 876 880 884 888 892 896 904 908 912 916 920 924 928 932 936 940 944 948 952 956 960 964 968 972 976 980 984 988 992 996 1004 1008 1012 1016 1020 1024 1028 1032 1036 1040 1044 1048 1052 1056 1060 1064 1068 1072 1076 1080 1084 1088 1092 1096 1104 1108 1112 1116 1120 1124 1128 1132 1136 1140 1144 1148 1152 1156 1160 1164 1168 1172 1176 1180 1184 1188 1192 1196 1200 1204 1208 1212 1216 1220 1224 1228 1232 1236 1240 1244 1248 1252 1256 1260 1264 1268 1272 1276 1280 1284 1288 1292 1296 1304 1308 1312 1316 1320 1324 1328 1332 1336 1340 1344 1348 1352 1356 1360 1364 1368 1372 1376 1380 1384 1388 1392 1396 1404 1408 1412 1416 1420 1424 1428 1432 1436 1440 1444 1448 1452 1456 1460 1464 1468 1472 1476 1480 1484 1488 1492 1496 1504 1508 1512 1516 1520 1524 1528 1532 1536 1540 1544 1548 1552 1556 1560 1564 1568 1572 1576 1580 1584 1588 1592 1596 1600 1604 1608 1612 1616 1620 1624 1628 1632 1636 1640 1644 1648 1652 1656 1660 1664 1668 1672 1676 1680 1684 1688 1692 1696 1704 1708 1712 1716 1720 1724 1728 1732 1736 1740 1744 1748 1752 1756 1760 1764 1768 1772 1776 1780 1784 1788 1792 1796 1804 1808 1812 1816 1820 1824 1828 1832 1836 1840 1844 1848 1852 1856 1860 1864 1868 1872 1876 1880 1884 1888 1892 1896 1904 1908 1912 1916 1920 1924 1928 1932 1936 1940 1944 1948 1952 1956 1960 1964 1968 1972 1976 1980 1984 1988 1992 1996 2000 2004 2008 2012 2016 2020 "
     ]
    }
   ],
   "source": [
    "def generateleapyear(ly,uy):\n",
    "    for i in range(ly,uy+1):\n",
    "        if i%400 == 0 or(i%4==0 and i%100!=0):\n",
    "            print (i,end=\" \")\n",
    "    return\n",
    "generateleapyear(200,2020)"
   ]
  },
  {
   "cell_type": "code",
   "execution_count": 25,
   "metadata": {},
   "outputs": [
    {
     "data": {
      "text/plain": [
       "365"
      ]
     },
     "execution_count": 25,
     "metadata": {},
     "output_type": "execute_result"
    }
   ],
   "source": [
    "#Calculate number of days in a given time days\n",
    "def numberofdays(ly,uy):\n",
    "    sum=0\n",
    "    for year in range(ly,uy+1):\n",
    "        if  Leapyear(year):                   \n",
    "             sum= sum+366\n",
    "        else:\n",
    "            sum= sum+365\n",
    "    return sum\n",
    "numberofdays(2019,2019)\n",
    "            "
   ]
  },
  {
   "cell_type": "code",
   "execution_count": 24,
   "metadata": {},
   "outputs": [
    {
     "data": {
      "text/plain": [
       "8552"
      ]
     },
     "execution_count": 24,
     "metadata": {},
     "output_type": "execute_result"
    }
   ],
   "source": [
    "# Function to calculate number of hours for a given period\n",
    "#numberof Hours(11,1975,3,1999) ->204504 or 205248\n",
    "#numberof hours(5,2019,6,2019)  ->1464\n",
    "#calculate days from jan to end month year\n",
    "#Excluding Feb\n",
    "# First seven  months   -1,3,4,5,6,7\n",
    "                           # All odd num have 31 days\n",
    "                            # All even num have 30 days\n",
    "#next months - 8,9,10,11,12\n",
    "                          # All even num have 31 days\n",
    "                           # All odd num have 30 days\n",
    "# 31 days -(month<=7 and month !=2)\n",
    "#         return 31\n",
    "#     else\n",
    "#        return 30\n",
    "\n",
    "def numberdaysinmonth(month,year):\n",
    "    if month==2:\n",
    "        if Leapyear(year):\n",
    "            return 29\n",
    "        return 28\n",
    "    elif (month<=7 and month %2!=0 or (month >=8) and month %2==0):\n",
    "        return 31\n",
    "    else:\n",
    "        return 30\n",
    "def daysInstartyear(startmonth,startyear):\n",
    "    days=0\n",
    "    for month in range(startmonth,13):\n",
    "        days += numberdaysinmonth(month,startyear)\n",
    "    return days\n",
    "def daysInendyear(endmonth,endyear):\n",
    "    days = 0\n",
    "    for month in range(1,endmonth+1):\n",
    "        days += numberdaysinmonth(month,endyear)\n",
    "    return days\n",
    "def numberofhours(startmonth,startyear,endmonth,endyear):\n",
    "    days=0\n",
    "    days += daysInstartyear(startmonth,startyear)\n",
    "    days += daysInendyear(endmonth,endyear)\n",
    "    if endyear-startyear == 2:\n",
    "        days+=numberofdays(startyear+1,startyear+1)\n",
    "    elif endyear-startyear > 2: \n",
    "        days+=numberofdays(startyear+1,endyear-1)\n",
    "    return 24*days\n",
    "numberofhours(11,1975,3,1999)  "
   ]
  },
  {
   "cell_type": "code",
   "execution_count": null,
   "metadata": {},
   "outputs": [],
   "source": [
    "\n",
    "\n",
    "\n",
    "\n",
    "         "
   ]
  },
  {
   "cell_type": "code",
   "execution_count": 105,
   "metadata": {},
   "outputs": [
    {
     "ename": "SyntaxError",
     "evalue": "invalid syntax (<ipython-input-105-06d585252549>, line 2)",
     "output_type": "error",
     "traceback": [
      "\u001b[1;36m  File \u001b[1;32m\"<ipython-input-105-06d585252549>\"\u001b[1;36m, line \u001b[1;32m2\u001b[0m\n\u001b[1;33m    def\u001b[0m\n\u001b[1;37m        ^\u001b[0m\n\u001b[1;31mSyntaxError\u001b[0m\u001b[1;31m:\u001b[0m invalid syntax\n"
     ]
    }
   ],
   "source": [
    "#Function to generate N odd armstrong numbers\n",
    "def armstrong(n):\n",
    "    for i in range(1,n+1):\n",
    "        "
   ]
  },
  {
   "cell_type": "code",
   "execution_count": null,
   "metadata": {},
   "outputs": [],
   "source": []
  }
 ],
 "metadata": {
  "kernelspec": {
   "display_name": "Python 3",
   "language": "python",
   "name": "python3"
  },
  "language_info": {
   "codemirror_mode": {
    "name": "ipython",
    "version": 3
   },
   "file_extension": ".py",
   "mimetype": "text/x-python",
   "name": "python",
   "nbconvert_exporter": "python",
   "pygments_lexer": "ipython3",
   "version": "3.7.3"
  }
 },
 "nbformat": 4,
 "nbformat_minor": 2
}
