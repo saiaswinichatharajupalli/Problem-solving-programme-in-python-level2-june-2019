{
 "cells": [
  {
   "cell_type": "markdown",
   "metadata": {},
   "source": [
    "### Markdown Basics\n",
    "\n",
    "* **Bold**<br>\n",
    "* *Itallic*<br>\n",
    "* ***IB***  <br>\n",
    "* Normal Text\n",
    "     * Sublist1\n",
    "     * Sublist2\n",
    "     \n",
    "     \n",
    "1. Ordered list element1\n",
    "2. Ordered list element2\n",
    "\n",
    "\n",
    "[JupyterLogo](JupyterLogo.png)\n",
    "\n",
    "<img src=\"JupyterLogo.png\" style=\"float:left\">\n",
    "\n",
    "\n",
    "\n",
    "I get 10 times more traffic from [Google][1] than From [yahoo][2] or [MSN][3].\n",
    "\n",
    "          [1]: https://google.com/           \"google\"\n",
    "          [2]: https://search.yahoo.com/     \"yahoo\"\n",
    "          [3]: https://search.MSN.com/        \"MSN\"\n",
    "\n"
   ]
  },
  {
   "cell_type": "markdown",
   "metadata": {},
   "source": []
  },
  {
   "cell_type": "markdown",
   "metadata": {},
   "source": [
    "### python Basics\n",
    " \n",
    " Python Version 3.7\n",
    " \n",
    " \n",
    " -scripting\n",
    "  \n",
    "\n"
   ]
  },
  {
   "cell_type": "code",
   "execution_count": 27,
   "metadata": {},
   "outputs": [
    {
     "name": "stdout",
     "output_type": "stream",
     "text": [
      "Good Afternoon ! Hello python\n"
     ]
    }
   ],
   "source": [
    "#Python comments\n",
    "\n",
    "print(\"Good Afternoon !\",end=\" \") # Basic output\n",
    "print (\"Hello python\")"
   ]
  },
  {
   "cell_type": "markdown",
   "metadata": {},
   "source": [
    "### Data types\n",
    "1. int\n",
    "2. float\n",
    "3. string\n",
    "4. double"
   ]
  },
  {
   "cell_type": "markdown",
   "metadata": {},
   "source": [
    "### Assignment "
   ]
  },
  {
   "cell_type": "code",
   "execution_count": 30,
   "metadata": {},
   "outputs": [
    {
     "name": "stdout",
     "output_type": "stream",
     "text": [
      "123 234 345\n"
     ]
    }
   ],
   "source": [
    "n1=123456  # Single Variable Assignment\n",
    "\n",
    "n2=n3=n4=n1  # Multi Variable Assignment of the  \n",
    "\n",
    "a,b,c,=123,234,345 #Multi variable\n",
    "\n",
    "print(a,b,c)"
   ]
  },
  {
   "cell_type": "code",
   "execution_count": null,
   "metadata": {},
   "outputs": [],
   "source": []
  },
  {
   "cell_type": "markdown",
   "metadata": {},
   "source": [
    "### Arithmetic Operation\n",
    "* +\n",
    "\n",
    "* -\n",
    "\n",
    "* X\n",
    "\n",
    "* /\n",
    "\n",
    "* %\n",
    "\n",
    "* **"
   ]
  },
  {
   "cell_type": "code",
   "execution_count": 38,
   "metadata": {},
   "outputs": [
    {
     "data": {
      "text/plain": [
       "110088"
      ]
     },
     "execution_count": 38,
     "metadata": {},
     "output_type": "execute_result"
    }
   ],
   "source": [
    "n1%11\n",
    "\n",
    "n3=n2**123456\n",
    "\n",
    "type(n3)\n",
    "len(str(n3))\n",
    " \n",
    "atoms = 10 ** 82\n",
    "len(str(atoms))\n",
    "type(str(atoms))\n",
    "\n",
    "12232 * 9"
   ]
  },
  {
   "cell_type": "markdown",
   "metadata": {},
   "source": []
  },
  {
   "cell_type": "markdown",
   "metadata": {},
   "source": [
    "### Conditionals\n",
    "\n"
   ]
  },
  {
   "cell_type": "code",
   "execution_count": 45,
   "metadata": {},
   "outputs": [
    {
     "name": "stdout",
     "output_type": "stream",
     "text": [
      "FALSE\n"
     ]
    }
   ],
   "source": [
    "if atoms < 10 ** 9:\n",
    "      print(\"TRUE\")\n",
    "        \n",
    "else:\n",
    "    print(\"FALSE\")"
   ]
  },
  {
   "cell_type": "code",
   "execution_count": 36,
   "metadata": {},
   "outputs": [
    {
     "data": {
      "text/plain": [
       "6130687873308026945890176790042303730066739281"
      ]
     },
     "execution_count": 36,
     "metadata": {},
     "output_type": "execute_result"
    }
   ],
   "source": [
    "\n",
    "type(a)\n",
    "s1=\"python\"\n",
    "type(s1)\n",
    "\n",
    "f1=12.35\n",
    "type(f1)\n",
    "\n",
    "int(f1)\n",
    "float(f1)\n",
    "\n",
    "float(str(int(f1)))\n",
    "\n",
    "122321 ** 9"
   ]
  },
  {
   "cell_type": "code",
   "execution_count": 5,
   "metadata": {},
   "outputs": [
    {
     "name": "stdout",
     "output_type": "stream",
     "text": [
      "odd\n"
     ]
    }
   ],
   "source": [
    "#check if a number is Even\n",
    "n=123\n",
    "if n%2==0:\n",
    "     print (\"Even\")\n",
    "else:\n",
    "    print(\"odd\")\n",
    "\n",
    "\n",
    "\n",
    "\n"
   ]
  },
  {
   "cell_type": "code",
   "execution_count": null,
   "metadata": {},
   "outputs": [],
   "source": [
    "# find the greatest of 3 num\n",
    "\n",
    "n1=int(input(\"Enter the first number\"))\n",
    "n2=int(input(\"Enter the second number\"))\n",
    "n3=int(input(\"Enter the third number\"))\n",
    "if n1>n2 and n1>n3:\n",
    "    print(n1,\"is the greatest\")\n",
    "elif n2>n3:\n",
    "     print(n2, \"is the greatest\")\n",
    "else:\n",
    "    print(n3,\"is the greatest\")\n"
   ]
  },
  {
   "cell_type": "code",
   "execution_count": 2,
   "metadata": {},
   "outputs": [
    {
     "name": "stdout",
     "output_type": "stream",
     "text": [
      "Enter the year2019\n",
      "not leap year\n"
     ]
    }
   ],
   "source": [
    "## Check if a year is leap year\n",
    "\n",
    "n1=int(input(\"Enter the year\"))\n",
    "if n1%4==0:\n",
    "    print(\"leap year\")\n",
    "elif n1%400==0 and n1%100!=0:\n",
    "     print(\"leap year\")\n",
    "else:\n",
    "    print (\"not leap year\")\n",
    "    \n"
   ]
  },
  {
   "cell_type": "code",
   "execution_count": 6,
   "metadata": {},
   "outputs": [
    {
     "name": "stdout",
     "output_type": "stream",
     "text": [
      "Enter the num1145\n",
      "It is in range\n"
     ]
    }
   ],
   "source": [
    "# check if a number exists in a given range(include)\n",
    "\n",
    "n1=int(input(\"Enter the num\"))\n",
    "lb=123\n",
    "ub=143\n",
    "if 123<= n1 >=143:\n",
    "    print(\"It is in range\")\n",
    "else:\n",
    "    print(\"it is not in range\")\n"
   ]
  },
  {
   "cell_type": "code",
   "execution_count": null,
   "metadata": {},
   "outputs": [],
   "source": [
    "#Calculte the number of digits in a number\n",
    "n1=13242342\n",
    "print(len(n1))\n"
   ]
  },
  {
   "cell_type": "code",
   "execution_count": null,
   "metadata": {},
   "outputs": [],
   "source": [
    "#check if a number is a multiple  of 10\n",
    "n1=int(input(\"Enter the number\"))\n",
    "if n1%10==0:\n",
    "    print(n1,\"is multiple\")\n",
    "else:\n",
    "    print(n1,\"not a multiple\")\n"
   ]
  },
  {
   "cell_type": "code",
   "execution_count": 2,
   "metadata": {},
   "outputs": [],
   "source": [
    "# check if given atring \n",
    "if "
   ]
  },
  {
   "cell_type": "code",
   "execution_count": 8,
   "metadata": {},
   "outputs": [
    {
     "data": {
      "text/plain": [
       "11.090536506409418"
      ]
     },
     "execution_count": 8,
     "metadata": {},
     "output_type": "execute_result"
    }
   ],
   "source": [
    "#calculate the square root of a number without \n",
    "n1=123\n",
    "n1 ** 0.5"
   ]
  },
  {
   "cell_type": "code",
   "execution_count": 11,
   "metadata": {},
   "outputs": [
    {
     "ename": "SyntaxError",
     "evalue": "invalid syntax (<ipython-input-11-70493fc141df>, line 3)",
     "output_type": "error",
     "traceback": [
      "\u001b[1;36m  File \u001b[1;32m\"<ipython-input-11-70493fc141df>\"\u001b[1;36m, line \u001b[1;32m3\u001b[0m\n\u001b[1;33m    if n%4==0 or n%400==0 and n%100!==0:\u001b[0m\n\u001b[1;37m                                     ^\u001b[0m\n\u001b[1;31mSyntaxError\u001b[0m\u001b[1;31m:\u001b[0m invalid syntax\n"
     ]
    }
   ],
   "source": [
    "#calculate the number of nano seconds in a given year(considering leap year logic)\n",
    "n=2019\n",
    "if n%4==0 or n%400==0 and n%100!==0:\n",
    "    print (366 * 24 * 60 * 60 * (10**9) )\n",
    "else:\n",
    "    print (365 * 24 * 60 * 60 * (10**9) )\n"
   ]
  },
  {
   "cell_type": "code",
   "execution_count": 13,
   "metadata": {},
   "outputs": [
    {
     "name": "stdout",
     "output_type": "stream",
     "text": [
      "Enter the number10\n",
      "10 is a factor of 1000\n"
     ]
    }
   ],
   "source": [
    "# check a given number is factor of the number or not\n",
    "n1=int(input(\"Enter the number\"))\n",
    "if 1000%n1==0:\n",
    "    print(n1,\"is a factor of 1000\")\n",
    "else:\n",
    "    print(n1,\"is not a factor of 1000\")"
   ]
  },
  {
   "cell_type": "code",
   "execution_count": null,
   "metadata": {},
   "outputs": [],
   "source": []
  }
 ],
 "metadata": {
  "kernelspec": {
   "display_name": "Python 3",
   "language": "python",
   "name": "python3"
  },
  "language_info": {
   "codemirror_mode": {
    "name": "ipython",
    "version": 3
   },
   "file_extension": ".py",
   "mimetype": "text/x-python",
   "name": "python",
   "nbconvert_exporter": "python",
   "pygments_lexer": "ipython3",
   "version": "3.7.3"
  }
 },
 "nbformat": 4,
 "nbformat_minor": 2
}
