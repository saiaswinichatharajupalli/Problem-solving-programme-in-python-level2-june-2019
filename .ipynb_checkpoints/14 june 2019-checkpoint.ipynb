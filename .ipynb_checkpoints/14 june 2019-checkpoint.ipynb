{
 "cells": [
  {
   "cell_type": "markdown",
   "metadata": {},
   "source": [
    "### Problem Solving and Programming in python - Day-4\n",
    "\n",
    "#### Date- 14 June 2019\n",
    "\n",
    "### Day Objectives\n",
    "\n",
    "\n",
    "\n",
    " - Python Data structures\n",
    "      - Lists\n",
    "      - Tuples\n",
    "      - Dictionaries\n",
    " -  Basic problem set on Data structures\n",
    " -  Advanced problem set\n",
    " -  Packages and Modules in python"
   ]
  },
  {
   "cell_type": "code",
   "execution_count": null,
   "metadata": {},
   "outputs": [],
   "source": []
  },
  {
   "cell_type": "markdown",
   "metadata": {},
   "source": [
    "### Python Data Structures\n",
    "\n",
    "Lists"
   ]
  },
  {
   "cell_type": "code",
   "execution_count": 14,
   "metadata": {},
   "outputs": [
    {
     "data": {
      "text/plain": [
       "485.0"
      ]
     },
     "execution_count": 14,
     "metadata": {},
     "output_type": "execute_result"
    }
   ],
   "source": [
    "li = [123, 978, 654]\n",
    "\n",
    "li # Accessing the entire list\n",
    "\n",
    "li[1]   # Accessing the element throw index\n",
    "\n",
    "li[1:]   # Accessing the 2 element to end element to last element \n",
    "\n",
    "li[ : : -1]   # reverse order in the list \n",
    "\n",
    "li = li[::-1]     # update the orginal list to reverse order list \n",
    "\n",
    "li  = li[::-1]     # reassigned the list to orginal list\n",
    "\n",
    "li[::2]            # Accessing even index elements\n",
    "\n",
    "li[1::2]        # Accessing odd index elements\n",
    "\n",
    "#Lists can be accessed, manipulated in two different ways\n",
    " #Direct Referencing - [index]\n",
    " #Indirect Referencing - through functions\n",
    "\n",
    "\n",
    "li.append(345)           #Adding an element to end of the list \n",
    "\n",
    "li.insert(1,456)         #Adding an element at a particular index\n",
    "\n",
    "li.sort()             # sort in asending order \n",
    "\n",
    "li.pop()               #Remove the last element using pop\n",
    "\n",
    "li2 = [234,456,789]\n",
    "\n",
    "\n",
    "li.extend(li2)     # merge list 2 into list1\n",
    "\n",
    "sum(li)   \n",
    "\n",
    "max(li)\n",
    "\n",
    "min(li)\n",
    "\n",
    "len (li)\n",
    "\n",
    " #try:\n",
    "#cathe:\n",
    "\n",
    "#except\n",
    "\n",
    "sum(li[1::2])/len(li[1::2])         #Average of list elements\n",
    "\n"
   ]
  },
  {
   "cell_type": "code",
   "execution_count": 62,
   "metadata": {},
   "outputs": [
    {
     "name": "stdout",
     "output_type": "stream",
     "text": [
      "245\n"
     ]
    }
   ],
   "source": [
    "#Function to identify the second largest element in a list\n",
    "\n",
    "def secondLargest(li):\n",
    "    li.sort()\n",
    "    return (li[-2])\n",
    "          \n",
    "secondLargest([123,345,567]) \n",
    "\n",
    "#Function to identify the n Largest element in a list\n",
    "\n",
    "def genericLargest(li,n):\n",
    "    li.sort()\n",
    "    print(li[-n])\n",
    "    return\n",
    "genericLargest([123,245,345,456],3)"
   ]
  },
  {
   "cell_type": "code",
   "execution_count": 12,
   "metadata": {},
   "outputs": [
    {
     "data": {
      "text/plain": [
       "1"
      ]
     },
     "execution_count": 12,
     "metadata": {},
     "output_type": "execute_result"
    }
   ],
   "source": [
    "#Function to search for data in a list and return the index return -1 if key not found\n",
    "\n",
    "def linearSearch(li,key):\n",
    "    for n in  range(0,len(li)):\n",
    "         if li[n] == key:\n",
    "            return li[n]\n",
    "    return -1\n",
    "    \n",
    "linearSearch([1,2,3,4,5],1)\n",
    "\n",
    "def linearSearch2(li,key):\n",
    "    for element in li:\n",
    "        if element == key:\n",
    "            return li.index(element)\n",
    "    return -1\n",
    "\n",
    "linearSearch2([1,2,34],2)\n",
    "\n",
    "\n",
    "def linearSearch3(li,key):\n",
    "    return \n",
    "\n",
    "linearSearch3\n",
    "            \n",
    "    "
   ]
  },
  {
   "cell_type": "code",
   "execution_count": 18,
   "metadata": {},
   "outputs": [
    {
     "data": {
      "text/plain": [
       "3"
      ]
     },
     "execution_count": 18,
     "metadata": {},
     "output_type": "execute_result"
    }
   ],
   "source": [
    "# Function to count the occurances of a charater in string\n",
    "#\"python programming\", m -> 2\n",
    "def Howmanytimes(s,c):\n",
    "    count=0\n",
    "    for ch in s:\n",
    "        if ch == c:\n",
    "            count += 1\n",
    "    return count\n",
    "def countcharacterOccurances2(s,c):\n",
    "    return s.count(c)\n",
    "countcharacterOccurances2(\"abcabcabc\",'ab')"
   ]
  },
  {
   "cell_type": "code",
   "execution_count": null,
   "metadata": {},
   "outputs": [],
   "source": []
  }
 ],
 "metadata": {
  "kernelspec": {
   "display_name": "Python 3",
   "language": "python",
   "name": "python3"
  },
  "language_info": {
   "codemirror_mode": {
    "name": "ipython",
    "version": 3
   },
   "file_extension": ".py",
   "mimetype": "text/x-python",
   "name": "python",
   "nbconvert_exporter": "python",
   "pygments_lexer": "ipython3",
   "version": "3.7.3"
  }
 },
 "nbformat": 4,
 "nbformat_minor": 2
}
