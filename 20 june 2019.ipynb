{
 "cells": [
  {
   "cell_type": "markdown",
   "metadata": {},
   "source": [
    "### Day Objectives:\n",
    " - Regular Expression \n",
    "       - Constructing Regular Expressions for various use cases\n",
    "       - Regular Expressions Module and related in python\n",
    "       - Improving the Contacts application with name and phone number various \n",
    "\n",
    "- File Handling\n",
    "\n",
    "    - Text files\n",
    "    - Upgrading the contacts Application to store contact "
   ]
  },
  {
   "cell_type": "markdown",
   "metadata": {},
   "source": [
    "#### Regular Expressions\n",
    "\n",
    " - Pattern Matching\n",
    " - Symbolic Notation of a pattern \n",
    "    - pattern: Format which repeats\n",
    "    - pattern(RE) represents The set of all values\n",
    " - [0-9] ->Any digit\n",
    " \n",
    " - [a-z] ->Any lower case alphabet\n",
    " \n",
    " - [2468] ->All single digit multiples of 2\n",
    " \n",
    " - ^[0-9]{1}$ ->Only single digit numbers\n",
    " \n",
    " - ^[0-9]{3}$ ->Only three digit numbers\n",
    " \n",
    " - [0-9]*0$   -> All multiples of  10\n",
    " \n",
    " - ([1-9][0-9]*[05])|^([5])$ -> All multiples of  5\n",
    " \n",
    " - ^[1-9][0-9]{9}$     -> All 10 digits numbers\n",
    " \n",
    " \n",
    " - [w][o][r][d] or (word)   ->Specific word is highlights\n",
    " \n",
    " \n",
    " - ^[6-9][0-9]{9}$|^[0][6-9][0-9]{9}[0-9]{9}$ -> Validating Phone number(India)(start with 9876 followed by 9 digits)\n",
    " \n",
    " \n",
    " -[0-9a-z][0-9a-z_.]{4,13}[0-9a-z][@][a-z0-9]{3,18}[.][2-4a-z]{2,4}$   -> EmailValidation(username@domain.extension)\n",
    " \n",
    " - Username\n",
    "       - Length of username : [6,15]\n",
    "       - No special characters other than_.\n",
    "       - should not begin and end with_ .\n",
    "       - character Set : all digits and alphabet\n",
    "       \n",
    " - domain\n",
    "       - Length of domain  : [3,18]\n",
    "       - No special characters \n",
    "       - Character Set : all digits and alphabet\n",
    "       \n",
    " - extension\n",
    "       - Length of extension : [2,4]\n",
    "       - No special characters \n",
    "       - Character Set : alphabet\n",
    "       \n",
    "- ->Any string of length 5 that starts with 'a' and ends with 'z'\n",
    "^[a]...[z]$\n",
    "^[a].*[z]$    -> Any sting any lenth start with 'a' and ends with 'z'"
   ]
  },
  {
   "cell_type": "code",
   "execution_count": null,
   "metadata": {},
   "outputs": [],
   "source": []
  },
  {
   "cell_type": "code",
   "execution_count": 39,
   "metadata": {},
   "outputs": [
    {
     "data": {
      "text/plain": [
       "True"
      ]
     },
     "execution_count": 39,
     "metadata": {},
     "output_type": "execute_result"
    }
   ],
   "source": [
    "#Function  to validate a phone number\n",
    "import re \n",
    "def phoneNumberValidator(number):\n",
    "    pattern = '^[6-9][0-9]{9}$|^[0][6-9][0-9]{9}[0-9]{9}$'\n",
    "    if re.match(pattern,str(number)):\n",
    "        return True\n",
    "    return False\n",
    "phoneNumberValidator(9652668543)"
   ]
  },
  {
   "cell_type": "code",
   "execution_count": 35,
   "metadata": {},
   "outputs": [
    {
     "name": "stdout",
     "output_type": "stream",
     "text": [
      "contact name1 already exists\n"
     ]
    }
   ],
   "source": [
    "contacts = {\"name1\":9876543210}\n",
    "\n",
    "def addcontacts(name,phone):\n",
    "    #verify that the contact does not already exist\n",
    "    if name not in contacts and phoneNumberValidator(phone):\n",
    "        contacts[name] = phone\n",
    "        print(\"contact %s added\")\n",
    "    if name in contacts:\n",
    "        print(\"contact %s already exists\" %name)\n",
    "    elif not PhoneNumberValidator(phone):\n",
    "        print(\"phone number is valid\")\n",
    "    return\n",
    "\n",
    "addcontacts(\"name1\",\"9774462523\")\n",
    "\n",
    "\n"
   ]
  },
  {
   "cell_type": "code",
   "execution_count": 22,
   "metadata": {},
   "outputs": [
    {
     "data": {
      "text/plain": [
       "True"
      ]
     },
     "execution_count": 22,
     "metadata": {},
     "output_type": "execute_result"
    }
   ],
   "source": [
    "import re \n",
    "def emailValidator(email):\n",
    "    pattern ='[0-9a-z][0-9a-z_.]{4,13}[0-9a-z][@][a-z0-9]{3,18}[.][2-4a-z]{2,4}$'\n",
    "    if re.match(pattern,email):\n",
    "        return True\n",
    "    else:\n",
    "        return False \n",
    "emailValidator(\"nityaas@gmail.com\")"
   ]
  },
  {
   "cell_type": "code",
   "execution_count": 18,
   "metadata": {},
   "outputs": [
    {
     "name": "stdout",
     "output_type": "stream",
     "text": [
      "Invalid email address\n"
     ]
    }
   ],
   "source": [
    "contacts = {\"name1\":[9876543210, \"name1@domain.ext\"], \"name2\":[987654345,\"name2@domain.ext\"]}\n",
    "\n",
    "def addcontacts(name,phone,email):\n",
    "    #verify that the contact does not already exist\n",
    "    if name  in contacts :\n",
    "        print(name,\"already exists.\")\n",
    "    else:\n",
    "        if not phoneNumberValidator(phone):\n",
    "            print(\"Invalid phone number\")\n",
    "        if not emailValidator(email):\n",
    "            print(\"Invalid email address\")\n",
    "            return\n",
    "        newcontact = []\n",
    "        newcontact.append(phone)\n",
    "        newcontact.append(email)\n",
    "        contacts[name] = newcontact\n",
    "    return \n",
    "addcontacts(\"name3\",\"9774462523\", \" name3hf@gmailcom\")"
   ]
  },
  {
   "cell_type": "code",
   "execution_count": 31,
   "metadata": {},
   "outputs": [
    {
     "name": "stdout",
     "output_type": "stream",
     "text": [
      "name2 does not exists \n"
     ]
    }
   ],
   "source": [
    "def searchcontacts(name):\n",
    "    if name in contacts:\n",
    "        print(name)\n",
    "        print(\"phone :\", contacts[name][0])\n",
    "        print(\"Email :\", contacts[name][0])\n",
    "    else:\n",
    "        print(\"%s does not exists \" %name)\n",
    "    return\n",
    "searchcontacts(\"name2\")"
   ]
  },
  {
   "cell_type": "code",
   "execution_count": 23,
   "metadata": {},
   "outputs": [
    {
     "name": "stdout",
     "output_type": "stream",
     "text": [
      "2 contact added\n"
     ]
    },
    {
     "data": {
      "text/plain": [
       "{'name1': [9876543210, 'name1@domain.ext'],\n",
       " 'name2': [975323454, 'name_412@gmail.com'],\n",
       " 'name3': [8634567898, 'name13434@gmail.com']}"
      ]
     },
     "execution_count": 23,
     "metadata": {},
     "output_type": "execute_result"
    }
   ],
   "source": [
    "def importcontact(newcontacts):\n",
    "    contacts.update(newcontacts)\n",
    "    print(len(newcontacts.keys()), \"contact added\")\n",
    "    return\n",
    "newcontacts = {\"name2\" :[975323454,\"name_412@gmail.com\"],\"name3\" :[8634567898, \"name13434@gmail.com\"]}\n",
    "\n",
    "importcontact(newcontacts)\n",
    "contacts"
   ]
  },
  {
   "cell_type": "code",
   "execution_count": 60,
   "metadata": {},
   "outputs": [
    {
     "name": "stdout",
     "output_type": "stream",
     "text": [
      "name1 \n",
      " phone: 9876543210 \n",
      " email: name1@domain.ext\n",
      "name2 \n",
      " phone: 975323454 \n",
      " email: name_412@gmail.com\n",
      "name3 \n",
      " phone: 8634567898 \n",
      " email: name13434@gmail.com\n"
     ]
    }
   ],
   "source": [
    "#Function to list all contacts\n",
    "def ListAllcontacts():\n",
    "    for contact,info in contacts.items():\n",
    "        print(contact,\"\\n\",\"phone:\", info[0], \"\\n\", \"email:\" , info[1])\n",
    "    return\n",
    "\n",
    "ListAllcontacts()\n",
    "    "
   ]
  },
  {
   "cell_type": "code",
   "execution_count": 41,
   "metadata": {},
   "outputs": [
    {
     "name": "stdout",
     "output_type": "stream",
     "text": [
      "{'name1': [9848158283, 'tej123@gmail.com']}\n"
     ]
    }
   ],
   "source": [
    "def editcontact(name,phone,email):\n",
    "    if name in contacts:\n",
    "        if phoneNumberValidator(phone) and emailValidator(email):\n",
    "            contacts[\"name1\"]=[9848158283,'tej123@gmail.com']\n",
    "        else:\n",
    "            print('not modified')\n",
    "    print(contacts)\n",
    "editcontact(\"name1\",9848158283,\"tej123@gmail.com\")\n",
    "\n"
   ]
  },
  {
   "cell_type": "code",
   "execution_count": null,
   "metadata": {},
   "outputs": [],
   "source": [
    "    "
   ]
  },
  {
   "cell_type": "markdown",
   "metadata": {},
   "source": [
    "#### File Handing in python\n",
    "\n",
    "File - Document containing information residing on the permanent storage\n",
    "Types - Text, PDF,CSV etc\n",
    "\n",
    "File I/O - Channelling I/O data to files\n",
    "\n",
    "Defalut I/O channnels  -  Keyboard / screen\n",
    "\n",
    "Change I/O channel to files for Reading and writing \n",
    "\n",
    "Read a file - Input from file\n",
    "\n",
    "Write to a file - output to a file\n",
    "\n",
    "Read/write  file - open(filename, mode)\n",
    "\n",
    "\n"
   ]
  },
  {
   "cell_type": "code",
   "execution_count": 45,
   "metadata": {},
   "outputs": [
    {
     "name": "stdout",
     "output_type": "stream",
     "text": [
      "Line1\n",
      " Line2\n",
      " Line3 Line1\n",
      "Line2\n",
      "Line3\n"
     ]
    }
   ],
   "source": [
    "#Function to read a file \n",
    "\n",
    "def readFile(filename):\n",
    "    f= open(filename,'r')\n",
    "    filedata = f.read()\n",
    "    f.close()\n",
    "    return filedata\n",
    "\n",
    "filename = \"Data files/data.txt\"\n",
    "filedata = readFile(filename)\n",
    "#for line in filedata.split(\"\\n\"):\n",
    "   # print(line)\n",
    "#readFile(filename)\n",
    "def printFileDataLines(filename):\n",
    "    f = open(filename,'r') \n",
    "    for line in f:\n",
    "        print(line, end=\" \")\n",
    "    return\n",
    "\n",
    "printFileDataLines(filename) \n",
    "print(readFile(filename))"
   ]
  },
  {
   "cell_type": "code",
   "execution_count": 50,
   "metadata": {},
   "outputs": [],
   "source": [
    "# Function to write data into a file\n",
    "\n",
    "def writeIntoFile(filename,filedata):\n",
    "    with open(filename,'w') as f:\n",
    "        f.write(filedata)\n",
    "    return\n",
    "filename = 'Data files/data.txt'\n",
    "\n",
    "writeIntoFile(filename,\"new data\\n\")"
   ]
  },
  {
   "cell_type": "code",
   "execution_count": 51,
   "metadata": {},
   "outputs": [],
   "source": [
    "#Function to append data to a file\n",
    "\n",
    "def appendDataToFile(filename,filedata):\n",
    "    with open(filename, 'a') as f:\n",
    "        #for line in filedata:\n",
    "        f.write(filedata)\n",
    "    return\n",
    "\n",
    "filedata = \"Line2\\nline3\"\n",
    "appendDataToFile(filename,filedata)"
   ]
  },
  {
   "cell_type": "code",
   "execution_count": null,
   "metadata": {},
   "outputs": [],
   "source": []
  }
 ],
 "metadata": {
  "kernelspec": {
   "display_name": "Python 3",
   "language": "python",
   "name": "python3"
  },
  "language_info": {
   "codemirror_mode": {
    "name": "ipython",
    "version": 3
   },
   "file_extension": ".py",
   "mimetype": "text/x-python",
   "name": "python",
   "nbconvert_exporter": "python",
   "pygments_lexer": "ipython3",
   "version": "3.7.3"
  }
 },
 "nbformat": 4,
 "nbformat_minor": 2
}
