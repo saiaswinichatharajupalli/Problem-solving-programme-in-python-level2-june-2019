{
 "cells": [
  {
   "cell_type": "code",
   "execution_count": null,
   "metadata": {},
   "outputs": [],
   "source": [
    "#Read no of array element \n",
    "n=input().split()\n",
    "n[0],n[1]=int(n[0]),int(n[1])\n",
    "\n",
    "a = input().split()\n",
    "sum = []\n",
    "\n",
    "#cumulative sum\n",
    "for i in range(0,n[0]):\n",
    "    if i==0:\n",
    "        sum.append(int(a[i]))\n",
    "    else:\n",
    "        sum.append(int(sum[i-1])+int(a[i]))\n",
    "del a\n",
    "#Read each query and calculate the average\n",
    "#print(sum[n[0]-1])\n",
    "for k in range(0,n[1]):\n",
    "    inq = input().split()\n",
    "    i=int(inq[0])\n",
    "    j=int(inq[1])\n",
    "    if i>1:\n",
    "        print(sum[j-1]-sum[i-2])//(j-i+1))\n",
    "    else:\n",
    "        print(sum[j-1]//(j-i+1))\n"
   ]
  },
  {
   "cell_type": "markdown",
   "metadata": {},
   "source": [
    "#special number \n",
    "\n",
    "A special number is defined as a number which has at least \n",
    "\n",
    "write a program to determine whether a number N is a special\n",
    "\n",
    "**inputformat**\n",
    "first line\n"
   ]
  },
  {
   "cell_type": "code",
   "execution_count": 8,
   "metadata": {},
   "outputs": [
    {
     "data": {
      "text/plain": [
       "True"
      ]
     },
     "execution_count": 8,
     "metadata": {},
     "output_type": "execute_result"
    }
   ],
   "source": [
    "#Function to determine if a number in a list\n",
    "def isSpecialNumber(n,p):\n",
    "    if numberprimeFactors(n) >= p:\n",
    "        return True\n",
    "    return False  \n",
    "\n",
    "# Function to check if number is prime\n",
    "\n",
    "def isprime(n):\n",
    "    flag=1\n",
    "    if n==2:\n",
    "        return True\n",
    "    for i in range(3,n//2+1):\n",
    "        if n%i==0:\n",
    "            flag=0\n",
    "            return False\n",
    "    if flag==1:\n",
    "        return True\n",
    "#Function to check if number of prime factors  for a given number\n",
    "\n",
    "def numberprimeFactors(n):\n",
    "    if isprime(n):\n",
    "        return 1\n",
    "    count = 0\n",
    "    for i in range(2,n//2+1):\n",
    "        if isprime(i) and n%i == 0:\n",
    "            count+=1\n",
    "    return count\n",
    "\n",
    "#numberprimeFactors(30)\n",
    "isSpecialNumber(8,2)        \n",
    " \n",
    "    \n"
   ]
  },
  {
   "cell_type": "code",
   "execution_count": 11,
   "metadata": {},
   "outputs": [
    {
     "name": "stdout",
     "output_type": "stream",
     "text": [
      "2\n",
      "3\n",
      "6\n",
      "YES\n",
      "7\n",
      "NO\n",
      "8\n",
      "YES\n"
     ]
    }
   ],
   "source": [
    "def solution2():\n",
    "    p=int(input())\n",
    "    t=int(input())\n",
    "    for i in range(0,t):\n",
    "        n=int(input())\n",
    "        if isSpecialNumber(n,p):\n",
    "            print(\"YES\")\n",
    "        else:\n",
    "            print(\"NO\")\n",
    "solution2()"
   ]
  },
  {
   "cell_type": "code",
   "execution_count": null,
   "metadata": {},
   "outputs": [],
   "source": [
    "#special numbers in the list\n",
    "def isprime(num):\n",
    "    for i in range(2,num+1):\n",
    "        if num%i==0\n",
    "           return False\n",
    "        return True\n",
    "def specialnumber(n):\n",
    "    for i in range(1,n):\n",
    "        if n%i==0:\n",
    "            if isprime(n)\n",
    "            "
   ]
  },
  {
   "cell_type": "markdown",
   "metadata": {},
   "source": [
    "### Tuples\n",
    "\n",
    "t1=()\n",
    "\n",
    "li=[]\n",
    "\n",
    "Differnce between Lists  and Tuples\n",
    "\n",
    "Lists are mutable -can be changed/modified \n",
    "    - used to Access ,Modify, Add, Delete \n",
    "    \n",
    "Tuples are immutable -cannot be changed\n",
    " - Used to access data only\n",
    " - All slicing work\n",
    " "
   ]
  },
  {
   "cell_type": "code",
   "execution_count": 14,
   "metadata": {},
   "outputs": [
    {
     "data": {
      "text/plain": [
       "(8, 6, 0)"
      ]
     },
     "execution_count": 14,
     "metadata": {},
     "output_type": "execute_result"
    }
   ],
   "source": [
    "t1=(1,2,8,6,0)\n",
    "\n",
    "t1[3]   # Accessing the fourth element\n",
    "\n",
    "t1[8:]# Accessing all elements from middle to last\n",
    "\n",
    "t1[len(t1)//2:] #Accessing all elements"
   ]
  },
  {
   "cell_type": "code",
   "execution_count": 15,
   "metadata": {},
   "outputs": [
    {
     "data": {
      "text/plain": [
       "tuple"
      ]
     },
     "execution_count": 15,
     "metadata": {},
     "output_type": "execute_result"
    }
   ],
   "source": [
    "type(t1)"
   ]
  },
  {
   "cell_type": "markdown",
   "metadata": {},
   "source": [
    "### Dictionaries\n",
    "\n",
    "It Works on the concept of set\n",
    "\n",
    "Unique Data\n",
    "\n",
    "Keys,values\n",
    "\n",
    "key is the unique identifier for a value\n",
    "\n",
    "value is data that can be accessed with key\n"
   ]
  },
  {
   "cell_type": "code",
   "execution_count": 24,
   "metadata": {},
   "outputs": [
    {
     "data": {
      "text/plain": [
       "{'k1': 'value1', 'k2': 'value2'}"
      ]
     },
     "execution_count": 24,
     "metadata": {},
     "output_type": "execute_result"
    }
   ],
   "source": [
    "d1={\"k1\":\"value1\",\"k2\":\"value2\"}\n",
    "\n",
    "d1[\"k2\"]          #Accessing the value with key \"k2\"\n",
    "d1.keys()         #Accessing list of keys\n",
    "d1.values()       #Accessing list of all values\n",
    "d1.items()        #return list of tuples of keys and values\n",
    "d1[\"k3\"] = \"value3\"   # adding the numbers to dictionaries\n",
    "\n",
    "d1[\"k3\"] = \"value4\"   #Updating an elements\n",
    "d1.pop(\"k3\")    #Removing an element\n",
    "\n",
    "\n",
    "d1"
   ]
  },
  {
   "cell_type": "markdown",
   "metadata": {},
   "source": [
    "### contacts Applications : Examples for Dictionaries\n",
    "\n",
    "- Add Contacts\n",
    "- Search for contact\n",
    "- List all contact\n",
    "    - name1 : phone1\n",
    "    - name2 : phone2\n",
    "- Modify contact\n",
    "- Remove contact\n",
    "- import contact"
   ]
  },
  {
   "cell_type": "code",
   "execution_count": 2,
   "metadata": {},
   "outputs": [
    {
     "name": "stdout",
     "output_type": "stream",
     "text": [
      "contact %s added\n"
     ]
    }
   ],
   "source": [
    "contacts = {}\n",
    "\n",
    "def addcontacts(name,phone):\n",
    "    #verify that the contact does not already exist\n",
    "    if name not in contacts:\n",
    "        contacts[name] = phone\n",
    "        print(\"contact %s added\")\n",
    "    else:\n",
    "        print(\"contact %s already exists\" %name)\n",
    "    return\n",
    "addcontacts(\"name1\",\"9774462523\")\n",
    "\n",
    "\n"
   ]
  },
  {
   "cell_type": "code",
   "execution_count": 30,
   "metadata": {},
   "outputs": [
    {
     "name": "stdout",
     "output_type": "stream",
     "text": [
      "name1 : 9774462523\n"
     ]
    }
   ],
   "source": [
    "def searchcontacts(name):\n",
    "    if name in contacts:\n",
    "        print(name,\":\",contacts[name])\n",
    "    else:\n",
    "        print(\"%s does not exists \" %name)\n",
    "    return\n",
    "searchcontacts(\"name1\")"
   ]
  },
  {
   "cell_type": "code",
   "execution_count": 7,
   "metadata": {},
   "outputs": [
    {
     "name": "stdout",
     "output_type": "stream",
     "text": [
      "{'name1': '9774462523'}\n"
     ]
    }
   ],
   "source": [
    "def Listcontact(contacts):\n",
    "    for key in contacts:\n",
    "        contacts().items()\n",
    "print(contacts)\n",
    "#Listcontact(contact)     \n",
    "        "
   ]
  },
  {
   "cell_type": "code",
   "execution_count": 12,
   "metadata": {},
   "outputs": [
    {
     "name": "stdout",
     "output_type": "stream",
     "text": [
      "{'name1': 234654366543}\n"
     ]
    }
   ],
   "source": [
    "def modifycontact(contacts):\n",
    "    for key in contacts:\n",
    "        contacts['name1'] =234654366543\n",
    "    print(contacts)\n",
    "modifycontact(contacts)"
   ]
  },
  {
   "cell_type": "code",
   "execution_count": 33,
   "metadata": {},
   "outputs": [
    {
     "name": "stdout",
     "output_type": "stream",
     "text": [
      "2 contact added\n"
     ]
    }
   ],
   "source": [
    "def importcontact(newcontacts):\n",
    "    contacts.update(newcontacts)\n",
    "    print(len(newcontacts.keys()), \"contact added\")\n",
    "    return\n",
    "newcontacts = {\"name2\" :975323454,\"name3\" :8634567898}\n",
    "\n",
    "importcontact(newcontacts)"
   ]
  },
  {
   "cell_type": "markdown",
   "metadata": {},
   "source": [
    "### Pakages and Modules\n",
    "\n",
    "**Pakage**   -> collection of Modules (Python File.py)\n",
    "\n",
    "**Sub pakage**  ->\n",
    "\n",
    "**module**   -> A single python file containing  function\n",
    "\n",
    "pakage -> Subpakages -> Modules -> Functions"
   ]
  },
  {
   "cell_type": "code",
   "execution_count": 35,
   "metadata": {},
   "outputs": [
    {
     "data": {
      "text/plain": [
       "3.141592653589793"
      ]
     },
     "execution_count": 35,
     "metadata": {},
     "output_type": "execute_result"
    }
   ],
   "source": [
    "import math \n",
    "\n",
    "math.floor(123.456)\n",
    "\n",
    "math.pi"
   ]
  },
  {
   "cell_type": "code",
   "execution_count": 44,
   "metadata": {},
   "outputs": [
    {
     "data": {
      "text/plain": [
       "123"
      ]
     },
     "execution_count": 44,
     "metadata": {},
     "output_type": "execute_result"
    }
   ],
   "source": [
    "from math import floor as fl\n",
    "\n",
    "fl(123.456)\n"
   ]
  },
  {
   "cell_type": "code",
   "execution_count": 53,
   "metadata": {},
   "outputs": [
    {
     "name": "stdout",
     "output_type": "stream",
     "text": [
      "26 25 23 90 10 4 44 38 56 74 "
     ]
    }
   ],
   "source": [
    "import random \n",
    "\n",
    "def GenerateNRandomNumbers(n,lb,ub):\n",
    "    for i in range(0,n):\n",
    "        print(random.randint(lb,ub),end=\" \")\n",
    "        \n",
    "GenerateNRandomNumbers(10,0,100)"
   ]
  },
  {
   "cell_type": "code",
   "execution_count": null,
   "metadata": {},
   "outputs": [],
   "source": []
  },
  {
   "cell_type": "code",
   "execution_count": 1,
   "metadata": {},
   "outputs": [
    {
     "data": {
      "text/plain": [
       "False"
      ]
     },
     "execution_count": 1,
     "metadata": {},
     "output_type": "execute_result"
    }
   ],
   "source": [
    "from Packages import numerical\n",
    "\n",
    "numerical.isprime(30)"
   ]
  },
  {
   "cell_type": "code",
   "execution_count": 17,
   "metadata": {},
   "outputs": [
    {
     "name": "stdout",
     "output_type": "stream",
     "text": [
      "30\n"
     ]
    }
   ],
   "source": [
    " l=[]\n",
    "sum=0\n",
    "for i in range(0,6):\n",
    "    l.append(i)\n",
    "for j in l:\n",
    "    sum=sum+i\n",
    "print(sum)\n",
    "    "
   ]
  },
  {
   "cell_type": "code",
   "execution_count": null,
   "metadata": {},
   "outputs": [],
   "source": [
    "def findproduct(n):\n",
    "    answer=1\n",
    "    l=[]\n",
    "    for i in range (0,n+1):\n",
    "        l.append(i)\n",
    "    for j in l:\n",
    "        answer=(answer*int(j))%(10**9+7)\n",
    "    print(answer)\n",
    "n=int(input())\n",
    "findproduct(n)"
   ]
  },
  {
   "cell_type": "code",
   "execution_count": 2,
   "metadata": {},
   "outputs": [
    {
     "name": "stdout",
     "output_type": "stream",
     "text": [
      "1000\n",
      "8553744896\n"
     ]
    }
   ],
   "source": [
    "def findproduct(n):\n",
    "    answer=1\n",
    "    l=[]\n",
    "    for i in range (1,n+1):\n",
    "        l.append(i)\n",
    "    for j in l:\n",
    "        answer=(answer*(j))%(10000000007)\n",
    "    print(answer)\n",
    "n=int(input())\n",
    "findproduct(n)"
   ]
  },
  {
   "cell_type": "code",
   "execution_count": 3,
   "metadata": {},
   "outputs": [
    {
     "name": "stdout",
     "output_type": "stream",
     "text": [
      "11X357-22\n",
      "vaild\n",
      "vaild\n",
      "vaild\n",
      "vaild\n"
     ]
    },
    {
     "ename": "IndexError",
     "evalue": "string index out of range",
     "output_type": "error",
     "traceback": [
      "\u001b[1;31m---------------------------------------------------------------------------\u001b[0m",
      "\u001b[1;31mIndexError\u001b[0m                                Traceback (most recent call last)",
      "\u001b[1;32m<ipython-input-3-c981bb670ab5>\u001b[0m in \u001b[0;36m<module>\u001b[1;34m\u001b[0m\n\u001b[0;32m     13\u001b[0m         \u001b[1;32melse\u001b[0m\u001b[1;33m:\u001b[0m\u001b[1;33m\u001b[0m\u001b[1;33m\u001b[0m\u001b[0m\n\u001b[0;32m     14\u001b[0m             \u001b[0mprint\u001b[0m\u001b[1;33m(\u001b[0m\u001b[1;34m\"vaild\"\u001b[0m\u001b[1;33m)\u001b[0m\u001b[1;33m\u001b[0m\u001b[1;33m\u001b[0m\u001b[0m\n\u001b[1;32m---> 15\u001b[1;33m \u001b[0mvowelsandevendigits\u001b[0m\u001b[1;33m(\u001b[0m\u001b[0ms\u001b[0m\u001b[1;33m)\u001b[0m\u001b[1;33m\u001b[0m\u001b[1;33m\u001b[0m\u001b[0m\n\u001b[0m",
      "\u001b[1;32m<ipython-input-3-c981bb670ab5>\u001b[0m in \u001b[0;36mvowelsandevendigits\u001b[1;34m(s)\u001b[0m\n\u001b[0;32m      4\u001b[0m     \u001b[1;32mfor\u001b[0m \u001b[0mi\u001b[0m \u001b[1;32min\u001b[0m \u001b[0mrange\u001b[0m\u001b[1;33m(\u001b[0m\u001b[1;36m0\u001b[0m\u001b[1;33m,\u001b[0m\u001b[0my\u001b[0m\u001b[1;33m)\u001b[0m\u001b[1;33m:\u001b[0m\u001b[1;33m\u001b[0m\u001b[1;33m\u001b[0m\u001b[0m\n\u001b[0;32m      5\u001b[0m \u001b[1;33m\u001b[0m\u001b[0m\n\u001b[1;32m----> 6\u001b[1;33m         \u001b[1;32mif\u001b[0m \u001b[0ms\u001b[0m\u001b[1;33m[\u001b[0m\u001b[0mi\u001b[0m\u001b[1;33m]\u001b[0m\u001b[1;33m.\u001b[0m\u001b[0misdigit\u001b[0m\u001b[1;33m(\u001b[0m\u001b[1;33m)\u001b[0m\u001b[1;33m==\u001b[0m\u001b[1;32mTrue\u001b[0m \u001b[1;32mand\u001b[0m \u001b[0ms\u001b[0m\u001b[1;33m[\u001b[0m\u001b[0mi\u001b[0m\u001b[1;33m+\u001b[0m\u001b[1;36m1\u001b[0m\u001b[1;33m]\u001b[0m\u001b[1;33m.\u001b[0m\u001b[0misdigit\u001b[0m\u001b[1;33m(\u001b[0m\u001b[1;33m)\u001b[0m\u001b[1;33m==\u001b[0m\u001b[1;32mTrue\u001b[0m\u001b[1;33m:\u001b[0m\u001b[1;33m\u001b[0m\u001b[1;33m\u001b[0m\u001b[0m\n\u001b[0m\u001b[0;32m      7\u001b[0m             \u001b[1;32mif\u001b[0m \u001b[1;33m(\u001b[0m\u001b[0mint\u001b[0m\u001b[1;33m(\u001b[0m\u001b[0ms\u001b[0m\u001b[1;33m[\u001b[0m\u001b[0mi\u001b[0m\u001b[1;33m]\u001b[0m\u001b[1;33m)\u001b[0m\u001b[1;33m+\u001b[0m\u001b[0mint\u001b[0m\u001b[1;33m(\u001b[0m\u001b[0ms\u001b[0m\u001b[1;33m[\u001b[0m\u001b[0mi\u001b[0m\u001b[1;33m+\u001b[0m\u001b[1;36m1\u001b[0m\u001b[1;33m]\u001b[0m\u001b[1;33m)\u001b[0m\u001b[1;33m)\u001b[0m\u001b[1;33m%\u001b[0m\u001b[1;36m2\u001b[0m\u001b[1;33m!=\u001b[0m\u001b[1;36m0\u001b[0m\u001b[1;33m:\u001b[0m\u001b[1;33m\u001b[0m\u001b[1;33m\u001b[0m\u001b[0m\n\u001b[0;32m      8\u001b[0m                       \u001b[0mprint\u001b[0m\u001b[1;33m(\u001b[0m\u001b[1;34m\"invalid\"\u001b[0m\u001b[1;33m)\u001b[0m\u001b[1;33m\u001b[0m\u001b[1;33m\u001b[0m\u001b[0m\n",
      "\u001b[1;31mIndexError\u001b[0m: string index out of range"
     ]
    }
   ],
   "source": [
    "s=input()\n",
    "y=len(s)\n",
    "def vowelsandevendigits(s):\n",
    "    for i in range(0,y):\n",
    "        \n",
    "        if s[i].isdigit()==True and s[i+1].isdigit()==True:\n",
    "            if (int(s[i])+int(s[i+1]))%2!=0:\n",
    "                      print(\"invalid\")\n",
    "                \n",
    "        elif (s[i].isalpha()==True) and s[i]!='X':\n",
    "            if s[i]==\"A\" or \"E\" or \"I\" or \"O\" or \"U\" or \"Y\":\n",
    "                    print(\"invalid\")\n",
    "        else:\n",
    "            print(\"vaild\")\n",
    "vowelsandevendigits(s)       "
   ]
  },
  {
   "cell_type": "code",
   "execution_count": 4,
   "metadata": {},
   "outputs": [
    {
     "name": "stdout",
     "output_type": "stream",
     "text": [
      " wertyu\n",
      "0\n",
      "1\n",
      "2\n",
      "3\n",
      "4\n"
     ]
    }
   ],
   "source": [
    "s=input(\" \")\n",
    "for i in range(0,len(s)-1,1):\n",
    "    print(i)"
   ]
  },
  {
   "cell_type": "code",
   "execution_count": null,
   "metadata": {},
   "outputs": [],
   "source": []
  }
 ],
 "metadata": {
  "kernelspec": {
   "display_name": "Python 3",
   "language": "python",
   "name": "python3"
  },
  "language_info": {
   "codemirror_mode": {
    "name": "ipython",
    "version": 3
   },
   "file_extension": ".py",
   "mimetype": "text/x-python",
   "name": "python",
   "nbconvert_exporter": "python",
   "pygments_lexer": "ipython3",
   "version": "3.7.3"
  }
 },
 "nbformat": 4,
 "nbformat_minor": 2
}
