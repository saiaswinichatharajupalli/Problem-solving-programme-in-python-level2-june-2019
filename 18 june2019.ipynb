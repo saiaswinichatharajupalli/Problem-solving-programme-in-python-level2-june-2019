{
 "cells": [
  {
   "cell_type": "code",
   "execution_count": null,
   "metadata": {},
   "outputs": [],
   "source": [
    "#Read no of array element \n",
    "n=input().split()\n",
    "n[0],n[1]=int(n[0]),int(n[1])\n",
    "\n",
    "a = input().split()\n",
    "sum = []\n",
    "\n",
    "#cumulative sum\n",
    "for i in range(0,n[0]):\n",
    "    if i==0:\n",
    "        sum.append(int(a[i]))\n",
    "    else:\n",
    "        sum.append(int(sum[i-1])+int(a[i]))\n",
    "del a\n",
    "#Read each query and calculate the average\n",
    "#print(sum[n[0]-1])\n",
    "for k in range(0,n[1]):\n",
    "    inq = input().split()\n",
    "    i=int(inq[0])\n",
    "    j=int(inq[1])\n",
    "    if i>1:\n",
    "        print(sum[j-1]-sum[i-2])//(j-i+1))\n",
    "    else:\n",
    "        print(sum[j-1]//(j-i+1))\n"
   ]
  },
  {
   "cell_type": "markdown",
   "metadata": {},
   "source": [
    "#special number \n",
    "\n",
    "A special number is defined as a number which has at least \n",
    "\n",
    "write a program to determine whether a number N is a special\n",
    "\n",
    "**inputformat**\n",
    "first line\n"
   ]
  },
  {
   "cell_type": "code",
   "execution_count": 8,
   "metadata": {},
   "outputs": [
    {
     "data": {
      "text/plain": [
       "True"
      ]
     },
     "execution_count": 8,
     "metadata": {},
     "output_type": "execute_result"
    }
   ],
   "source": [
    "#Function to determine if a number in a list\n",
    "def isSpecialNumber(n,p):\n",
    "    if numberprimeFactors(n) >= p:\n",
    "        return True\n",
    "    return False  \n",
    "\n",
    "# Function to check if number is prime\n",
    "\n",
    "def isprime(n):\n",
    "    flag=1\n",
    "    if n==2:\n",
    "        return True\n",
    "    for i in range(3,n//2+1):\n",
    "        if n%i==0:\n",
    "            flag=0\n",
    "            return False\n",
    "    if flag==1:\n",
    "        return True\n",
    "#Function to check if number of prime factors  for a given number\n",
    "\n",
    "def numberprimeFactors(n):\n",
    "    if isprime(n):\n",
    "        return 1\n",
    "    count = 0\n",
    "    for i in range(2,n//2+1):\n",
    "        if isprime(i) and n%i == 0:\n",
    "            count+=1\n",
    "    return count\n",
    "\n",
    "#numberprimeFactors(30)\n",
    "isSpecialNumber(8,2)        \n",
    " \n",
    "    \n"
   ]
  },
  {
   "cell_type": "code",
   "execution_count": 11,
   "metadata": {},
   "outputs": [
    {
     "name": "stdout",
     "output_type": "stream",
     "text": [
      "2\n",
      "3\n",
      "6\n",
      "YES\n",
      "7\n",
      "NO\n",
      "8\n",
      "YES\n"
     ]
    }
   ],
   "source": [
    "def solution2():\n",
    "    p=int(input())\n",
    "    t=int(input())\n",
    "    for i in range(0,t):\n",
    "        n=int(input())\n",
    "        if isSpecialNumber(n,p):\n",
    "            print(\"YES\")\n",
    "        else:\n",
    "            print(\"NO\")\n",
    "solution2()"
   ]
  },
  {
   "cell_type": "code",
   "execution_count": null,
   "metadata": {},
   "outputs": [],
   "source": [
    "#special numbers in the list\n",
    "def isprime(num):\n",
    "    for i in range(2,num+1):\n",
    "        if num%i==0\n",
    "           return False\n",
    "        return True\n",
    "def specialnumber(n):\n",
    "    for i in range(1,n):\n",
    "        if n%i==0:\n",
    "            if isprime(n)\n",
    "            "
   ]
  },
  {
   "cell_type": "markdown",
   "metadata": {},
   "source": [
    "### Tuples\n",
    "\n",
    "t1=()\n",
    "\n",
    "li=[]\n",
    "\n",
    "Differnce between Lists  and Tuples\n",
    "\n",
    "Lists are mutable -can be changed/modified \n",
    "    - used to Access ,Modify, Add, Delete \n",
    "    \n",
    "Tuples are immutable -cannot be changed\n",
    " - Used to access data only\n",
    " - All slicing work\n",
    " "
   ]
  },
  {
   "cell_type": "code",
   "execution_count": 14,
   "metadata": {},
   "outputs": [
    {
     "data": {
      "text/plain": [
       "(8, 6, 0)"
      ]
     },
     "execution_count": 14,
     "metadata": {},
     "output_type": "execute_result"
    }
   ],
   "source": [
    "t1=(1,2,8,6,0)\n",
    "\n",
    "t1[3]   # Accessing the fourth element\n",
    "\n",
    "t1[8:]# Accessing all elements from middle to last\n",
    "\n",
    "t1[len(t1)//2:] #Accessing all elements"
   ]
  },
  {
   "cell_type": "code",
   "execution_count": 15,
   "metadata": {},
   "outputs": [
    {
     "data": {
      "text/plain": [
       "tuple"
      ]
     },
     "execution_count": 15,
     "metadata": {},
     "output_type": "execute_result"
    }
   ],
   "source": [
    "type(t1)"
   ]
  },
  {
   "cell_type": "markdown",
   "metadata": {},
   "source": [
    "### Dictionaries\n",
    "\n",
    "It Works on the concept of set\n",
    "\n",
    "Unique Data\n",
    "\n",
    "Keys,values\n",
    "\n",
    "key is the unique identifier for a value\n",
    "\n",
    "value is data that can be accessed with key\n"
   ]
  },
  {
   "cell_type": "code",
   "execution_count": 24,
   "metadata": {},
   "outputs": [
    {
     "data": {
      "text/plain": [
       "{'k1': 'value1', 'k2': 'value2'}"
      ]
     },
     "execution_count": 24,
     "metadata": {},
     "output_type": "execute_result"
    }
   ],
   "source": [
    "d1={\"k1\":\"value1\",\"k2\":\"value2\"}\n",
    "\n",
    "d1[\"k2\"]          #Accessing the value with key \"k2\"\n",
    "d1.keys()         #Accessing list of keys\n",
    "d1.values()       #Accessing list of all values\n",
    "d1.items()        #return list of tuples of keys and values\n",
    "d1[\"k3\"] = \"value3\"   # adding the numbers to dictionaries\n",
    "\n",
    "d1[\"k3\"] = \"value4\"   #Updating an elements\n",
    "d1.pop(\"k3\")    #Removing an element\n",
    "\n",
    "\n",
    "d1"
   ]
  },
  {
   "cell_type": "markdown",
   "metadata": {},
   "source": [
    "### contacts Applications : Examples for Dictionaries\n",
    "\n",
    "- Add Contacts\n",
    "- Search for contact\n",
    "- List all contact\n",
    "    - name1 : phone1\n",
    "    - name2 : phone2\n",
    "- Modify contact\n",
    "- Remove contact\n",
    "- import contact"
   ]
  },
  {
   "cell_type": "code",
   "execution_count": 26,
   "metadata": {},
   "outputs": [
    {
     "name": "stdout",
     "output_type": "stream",
     "text": [
      "contact %s added\n"
     ]
    }
   ],
   "source": [
    "contacts = {}\n",
    "\n",
    "def addcontacts(name,phone):\n",
    "    #verify that the contact does not already exist\n",
    "    if name not in contacts:\n",
    "        contacts[name] = phone\n",
    "        print(\"contact %s added\")\n",
    "    else:\n",
    "        print(\"contact %s already exists\" %name)\n",
    "    return\n",
    "addcontacts(\"name1\",\"9774462523\")"
   ]
  },
  {
   "cell_type": "code",
   "execution_count": 30,
   "metadata": {},
   "outputs": [
    {
     "name": "stdout",
     "output_type": "stream",
     "text": [
      "name1 : 9774462523\n"
     ]
    }
   ],
   "source": [
    "def searchcontacts(name):\n",
    "    if name in contacts:\n",
    "        print(name,\":\",contacts[name])\n",
    "    else:\n",
    "        print(\"%s does not exists \" %name)\n",
    "    return\n",
    "searchcontacts(\"name1\")"
   ]
  },
  {
   "cell_type": "code",
   "execution_count": null,
   "metadata": {},
   "outputs": [],
   "source": [
    "def Listcontact(list):\n",
    "        \n",
    "        \n",
    "    \n",
    "    "
   ]
  },
  {
   "cell_type": "code",
   "execution_count": 33,
   "metadata": {},
   "outputs": [
    {
     "name": "stdout",
     "output_type": "stream",
     "text": [
      "2 contact added\n"
     ]
    }
   ],
   "source": [
    "def importcontact(newcontacts):\n",
    "    contacts.update(newcontacts)\n",
    "    print(len(newcontacts.keys()), \"contact added\")\n",
    "    return\n",
    "newcontacts = {\"name2\" :975323454,\"name3\" :8634567898}\n",
    "\n",
    "importcontact(newcontacts)"
   ]
  },
  {
   "cell_type": "code",
   "execution_count": null,
   "metadata": {},
   "outputs": [],
   "source": []
  }
 ],
 "metadata": {
  "kernelspec": {
   "display_name": "Python 3",
   "language": "python",
   "name": "python3"
  }
 },
 "nbformat": 4,
 "nbformat_minor": 2
}
