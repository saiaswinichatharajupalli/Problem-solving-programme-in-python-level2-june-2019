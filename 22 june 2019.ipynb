{
 "cells": [
  {
   "cell_type": "markdown",
   "metadata": {},
   "source": [
    "#### Date : 22 june 2019\n",
    "\n",
    "#### Day Objectives\n",
    "- Files Handling\n",
    "  -Basic File Data processing\n",
    "    - Accessing and Modifying file Data\n",
    "  - Character Count\n",
    "  - Line Count\n",
    "  - File Size\n",
    "  - word count\n",
    "  - Unique word count"
   ]
  },
  {
   "cell_type": "code",
   "execution_count": 7,
   "metadata": {},
   "outputs": [
    {
     "data": {
      "text/plain": [
       "'hi every one'"
      ]
     },
     "execution_count": 7,
     "metadata": {},
     "output_type": "execute_result"
    }
   ],
   "source": [
    "#Read a File- File should exist\n",
    "#write to a File - Existing(append mode) or New File(Write)\n",
    "\n",
    "def readFile(filePath):\n",
    "    with open(filePath,'r') as f:\n",
    "        #print(type(f))\n",
    "        filedata=f.read()\n",
    "    return filedata\n",
    "\n",
    "filepath = 'Book.txt'\n",
    "readFile(filepath)                                                                            "
   ]
  },
  {
   "cell_type": "code",
   "execution_count": 19,
   "metadata": {},
   "outputs": [
    {
     "name": "stdout",
     "output_type": "stream",
     "text": [
      "12\n"
     ]
    }
   ],
   "source": [
    "file = \"Book.txt\"\n",
    "def charactercount(file):\n",
    "    count = 0\n",
    "    with open(file,'r') as f:\n",
    "        for i in f:\n",
    "            for j in i:\n",
    "                count += 1\n",
    "    return count\n",
    "print(charactercount(file))\n",
    "    "
   ]
  },
  {
   "cell_type": "code",
   "execution_count": 23,
   "metadata": {},
   "outputs": [
    {
     "name": "stdout",
     "output_type": "stream",
     "text": [
      "1\n"
     ]
    }
   ],
   "source": [
    "file = \"Book.txt\"\n",
    "def linecount(file):\n",
    "    count=0\n",
    "    with open(file,'r') as f:\n",
    "        for i in f:\n",
    "            count+=1\n",
    "    return count\n",
    "print(linecount(file))"
   ]
  },
  {
   "cell_type": "code",
   "execution_count": null,
   "metadata": {},
   "outputs": [],
   "source": [
    "file = \"Book.txt\"\n",
    "def filesize(file):\n",
    "    "
   ]
  },
  {
   "cell_type": "code",
   "execution_count": 30,
   "metadata": {},
   "outputs": [
    {
     "name": "stdout",
     "output_type": "stream",
     "text": [
      "3\n"
     ]
    }
   ],
   "source": [
    "file = \"Book.txt\"\n",
    "def word_count(file):\n",
    "    count=0\n",
    "    with open (file,'r') as f:\n",
    "        for items in f:\n",
    "            words=items.split()\n",
    "            count=count+len(words)\n",
    "    return count\n",
    "print(word_count(file))\n",
    "            "
   ]
  },
  {
   "cell_type": "code",
   "execution_count": 48,
   "metadata": {},
   "outputs": [
    {
     "name": "stdout",
     "output_type": "stream",
     "text": [
      "None\n"
     ]
    }
   ],
   "source": [
    "file =\"Book.txt\"\n",
    "def uniquewordcount(file):\n",
    "    nlist=[]\n",
    "    with open (file,'r') as f:\n",
    "        filedata=f.read().split()\n",
    "        for items in f:\n",
    "            if word not in f:\n",
    "                nlist.append(word)\n",
    "                len(nlist)\n",
    "    return\n",
    "print(uniquewordcount(file))"
   ]
  },
  {
   "cell_type": "code",
   "execution_count": 1,
   "metadata": {},
   "outputs": [
    {
     "name": "stdout",
     "output_type": "stream",
     "text": [
      "None\n"
     ]
    }
   ],
   "source": [
    "file =\"Book.txt\"\n",
    "def uniquewordcount(file):\n",
    "    nlist=[]\n",
    "    with open (file,'r') as f:\n",
    "        file=f.read().split()\n",
    "        for i in f:\n",
    "            if i not in nlist:\n",
    "                nlist.append(i)\n",
    "                print(nlist)\n",
    "    return\n",
    "print(uniquewordcount(file))"
   ]
  },
  {
   "cell_type": "code",
   "execution_count": 15,
   "metadata": {},
   "outputs": [
    {
     "name": "stdout",
     "output_type": "stream",
     "text": [
      "['hi', 'every', 'one', 'hi', 'girls', 'hi', 'boys', 'one']\n",
      "5\n"
     ]
    }
   ],
   "source": [
    "def uniquewordcount(file):\n",
    "    with open(file,'r') as f:\n",
    "        s=f.read().split()\n",
    "        print(s)\n",
    "        y=set(s)\n",
    "        print(len(y))\n",
    "        \n",
    "        \n",
    "    return\n",
    "       \n",
    "uniquewordcount(file)"
   ]
  },
  {
   "cell_type": "code",
   "execution_count": 2,
   "metadata": {},
   "outputs": [
    {
     "name": "stdout",
     "output_type": "stream",
     "text": [
      "None\n"
     ]
    }
   ],
   "source": [
    "import os\n",
    "file=\"Book.txt\"\n",
    "def fileSize(file):\n",
    "    os.path.getsize(file)\n",
    "    return\n",
    "print(fileSize(file))\n",
    "    \n",
    "    "
   ]
  },
  {
   "cell_type": "code",
   "execution_count": 55,
   "metadata": {},
   "outputs": [
    {
     "name": "stdout",
     "output_type": "stream",
     "text": [
      "1\n",
      "2\n",
      "3\n",
      "4\n",
      "5\n",
      "6\n",
      "7\n"
     ]
    }
   ],
   "source": [
    "x='1234567'\n",
    "for i in x:\n",
    "    print(int(i))"
   ]
  },
  {
   "cell_type": "code",
   "execution_count": null,
   "metadata": {},
   "outputs": [],
   "source": [
    "#f.read #Reads the entire file data \n",
    "#each element of the list is on line in the file\n",
    "def readfileInto(filepath):\n",
    "    with open(filepath,'r') as f:\n",
    "    lines = filedata.split('\\n')\n",
    "    lines=[]\n",
    "    for line in f:\n",
    "        lines.append(line)"
   ]
  },
  {
   "cell_type": "code",
   "execution_count": 8,
   "metadata": {},
   "outputs": [
    {
     "data": {
      "text/plain": [
       "12"
      ]
     },
     "execution_count": 8,
     "metadata": {},
     "output_type": "execute_result"
    }
   ],
   "source": [
    "def charCountFile(filepath):\n",
    "    count=len(readFile(filepath))\n",
    "    return count\n",
    "filepath='Book.txt'\n",
    "charCountFile(filepath)"
   ]
  },
  {
   "cell_type": "code",
   "execution_count": 9,
   "metadata": {},
   "outputs": [
    {
     "data": {
      "text/plain": [
       "3"
      ]
     },
     "execution_count": 9,
     "metadata": {},
     "output_type": "execute_result"
    }
   ],
   "source": [
    "import re\n",
    "def Wordcountfile(filepath):\n",
    "    pattern='[ \\n]'\n",
    "    filedata = readFile(filepath)\n",
    "    count = len(re.split(pattern,filedata))\n",
    "    return count\n",
    "Wordcountfile(filepath)"
   ]
  },
  {
   "cell_type": "code",
   "execution_count": null,
   "metadata": {},
   "outputs": [],
   "source": []
  },
  {
   "cell_type": "code",
   "execution_count": 16,
   "metadata": {},
   "outputs": [
    {
     "data": {
      "text/plain": [
       "3"
      ]
     },
     "execution_count": 16,
     "metadata": {},
     "output_type": "execute_result"
    }
   ],
   "source": [
    "#Function to get unique elements in the data in list \n",
    "\n",
    "#[1,2,3,3,2,1]  ->[1,2,3]\n",
    "#create  a empty the unique list []\n",
    "#check if it exists in the unique list\n",
    "#else if it already exist add the unique element in the list\n",
    "\n",
    "def uniqueData(list1):\n",
    "    unique=[]\n",
    "    for elements in list1:\n",
    "        if elements not in unique:\n",
    "            unique.append(elements)\n",
    "    return len(unique)\n",
    "list1=[1,2,3,3,2,1]\n",
    "\n",
    "uniqueData(list1)        \n",
    "    "
   ]
  },
  {
   "cell_type": "code",
   "execution_count": 21,
   "metadata": {},
   "outputs": [
    {
     "name": "stdout",
     "output_type": "stream",
     "text": [
      "4\n"
     ]
    }
   ],
   "source": [
    "file='Book.txt'\n",
    "def uniquecount(file):\n",
    "    unique=[]\n",
    "    with open (file,'r') as f:\n",
    "        for elements in f:\n",
    "            if elements not in unique:\n",
    "                unique.append(elements)\n",
    "        return len(unique)\n",
    "print(uniquecount(file))"
   ]
  },
  {
   "cell_type": "code",
   "execution_count": 27,
   "metadata": {},
   "outputs": [
    {
     "name": "stdout",
     "output_type": "stream",
     "text": [
      "0\n"
     ]
    }
   ],
   "source": [
    "#Function to print the frequency count of elements\n",
    "#hi every one\n",
    "#hi girls\n",
    "#hi boys\n",
    "#one\n",
    "file=\"Book.txt\"\n",
    "def uniquecountfrequency(file):\n",
    "    unique=[]\n",
    "    fre=0\n",
    "    with open (file,'r') as f:\n",
    "        file=file.split()\n",
    "        for elements in f:\n",
    "            \n",
    "            \n",
    "            \n",
    "        return fre\n",
    "print(uniquecountfrequency(file))"
   ]
  },
  {
   "cell_type": "code",
   "execution_count": 41,
   "metadata": {},
   "outputs": [
    {
     "name": "stdout",
     "output_type": "stream",
     "text": [
      "hi : 3\n",
      "every : 1\n",
      "one : 2\n",
      "girls : 1\n",
      "boys : 1\n"
     ]
    }
   ],
   "source": [
    "file=\"Book.txt\"\n",
    "def uniquefrecount(file):\n",
    "    unique=[]\n",
    "    c=0\n",
    "    with open (file,'r') as f:\n",
    "        file=f.read().split()\n",
    "        for elements in file:\n",
    "            i=elements\n",
    "            if elements not in unique:\n",
    "                unique.append(elements)\n",
    "                for j in file:\n",
    "                    if i==j:\n",
    "                        c=c+1\n",
    "                print (i, \":\", c)\n",
    "                c=0     \n",
    "        return \n",
    "uniquefrecount(file)    "
   ]
  },
  {
   "cell_type": "code",
   "execution_count": null,
   "metadata": {},
   "outputs": [],
   "source": []
  },
  {
   "cell_type": "code",
   "execution_count": null,
   "metadata": {},
   "outputs": [],
   "source": []
  },
  {
   "cell_type": "code",
   "execution_count": null,
   "metadata": {},
   "outputs": [],
   "source": []
  },
  {
   "cell_type": "code",
   "execution_count": null,
   "metadata": {},
   "outputs": [],
   "source": []
  }
 ],
 "metadata": {
  "kernelspec": {
   "display_name": "Python 3",
   "language": "python",
   "name": "python3"
  },
  "language_info": {
   "codemirror_mode": {
    "name": "ipython",
    "version": 3
   },
   "file_extension": ".py",
   "mimetype": "text/x-python",
   "name": "python",
   "nbconvert_exporter": "python",
   "pygments_lexer": "ipython3",
   "version": "3.7.3"
  }
 },
 "nbformat": 4,
 "nbformat_minor": 2
}
