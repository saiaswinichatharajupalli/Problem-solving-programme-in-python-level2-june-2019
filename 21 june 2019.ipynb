{
 "cells": [
  {
   "cell_type": "code",
   "execution_count": null,
   "metadata": {},
   "outputs": [],
   "source": []
  },
  {
   "cell_type": "code",
   "execution_count": 8,
   "metadata": {},
   "outputs": [
    {
     "ename": "SyntaxError",
     "evalue": "invalid syntax (<ipython-input-8-638640bc6939>, line 3)",
     "output_type": "error",
     "traceback": [
      "\u001b[1;36m  File \u001b[1;32m\"<ipython-input-8-638640bc6939>\"\u001b[1;36m, line \u001b[1;32m3\u001b[0m\n\u001b[1;33m    from Packages import validators import phoneNumberValidator as pnv,emailValidator as ev\u001b[0m\n\u001b[1;37m                                         ^\u001b[0m\n\u001b[1;31mSyntaxError\u001b[0m\u001b[1;31m:\u001b[0m invalid syntax\n"
     ]
    }
   ],
   "source": [
    "#Function to add contact to contacts text file\n",
    " \n",
    "from Packages import validators import phoneNumberValidator as pnv,emailValidator as ev\n",
    "#   emailValidator   as ev\n",
    "\n",
    "def addcontact(name,phone,email):\n",
    "    # store data as name, phone,email in the contacts file\n",
    "    filename = \"Data files/contacts.txt\"\n",
    "    if not checkContactExists(name):\n",
    "        if  phoneNumberValidator(phone and emailVralidato(email)):\n",
    "        with open(filename,'a') as f:\n",
    "            line = name+ ','+str(phone)+ ',' +email\n",
    "            f.write(line)\n",
    "    print(name,'added to contacts')\n",
    "    return\n",
    "#addcontact(\"name1\",9876543210,\"name1_23@gmail.com\")\n",
    "import re\n",
    "def checkContactExists(name):\n",
    "    filename = \"Data files/contacts.txt\"\n",
    "    with open(filename,'r') as f:\n",
    "        filedata = f.read()\n",
    "        pattern = name+','\n",
    "        return re.search(name,filedata)\n",
    "\n",
    "if checkContactExists(\"name1,\"):\n",
    "    print(True)\n",
    "else:\n",
    "    print(False)"
   ]
  },
  {
   "cell_type": "code",
   "execution_count": 14,
   "metadata": {},
   "outputs": [
    {
     "data": {
      "text/plain": [
       "' name1 9876543210 name1_23@gmail.com'"
      ]
     },
     "execution_count": 14,
     "metadata": {},
     "output_type": "execute_result"
    }
   ],
   "source": [
    "filename = 'Data files/contacts.txt'\n",
    "def CSVToList(filename):\n",
    "    li = []\n",
    "    with open(filename,'r') as f:\n",
    "        for line in f:\n",
    "            li.append(line.split(','))\n",
    "    return li\n",
    "def listtofile(li):\n",
    "    s=' '\n",
    "    for i in li:\n",
    "        s+= s.join(i)\n",
    "    return s\n",
    "li= CSVToList(filename)\n",
    "listtofile(li)\n",
    "    \n",
    "    "
   ]
  },
  {
   "cell_type": "code",
   "execution_count": 7,
   "metadata": {},
   "outputs": [
    {
     "ename": "NameError",
     "evalue": "name 'contacts' is not defined",
     "output_type": "error",
     "traceback": [
      "\u001b[1;31m---------------------------------------------------------------------------\u001b[0m",
      "\u001b[1;31mNameError\u001b[0m                                 Traceback (most recent call last)",
      "\u001b[1;32m<ipython-input-7-ee942478c94e>\u001b[0m in \u001b[0;36m<module>\u001b[1;34m\u001b[0m\n\u001b[0;32m      8\u001b[0m         \u001b[0mprint\u001b[0m\u001b[1;33m(\u001b[0m\u001b[1;34m\"%s does not exists \"\u001b[0m \u001b[1;33m%\u001b[0m\u001b[0mname\u001b[0m\u001b[1;33m)\u001b[0m\u001b[1;33m\u001b[0m\u001b[1;33m\u001b[0m\u001b[0m\n\u001b[0;32m      9\u001b[0m     \u001b[1;32mreturn\u001b[0m\u001b[1;33m\u001b[0m\u001b[1;33m\u001b[0m\u001b[0m\n\u001b[1;32m---> 10\u001b[1;33m \u001b[0msearchcontacts\u001b[0m\u001b[1;33m(\u001b[0m\u001b[1;34m\"name2\"\u001b[0m\u001b[1;33m)\u001b[0m\u001b[1;33m\u001b[0m\u001b[1;33m\u001b[0m\u001b[0m\n\u001b[0m",
      "\u001b[1;32m<ipython-input-7-ee942478c94e>\u001b[0m in \u001b[0;36msearchcontacts\u001b[1;34m(name)\u001b[0m\n\u001b[0;32m      1\u001b[0m \u001b[1;32mdef\u001b[0m \u001b[0msearchcontacts\u001b[0m\u001b[1;33m(\u001b[0m\u001b[0mname\u001b[0m\u001b[1;33m)\u001b[0m\u001b[1;33m:\u001b[0m\u001b[1;33m\u001b[0m\u001b[1;33m\u001b[0m\u001b[0m\n\u001b[0;32m      2\u001b[0m \u001b[1;33m\u001b[0m\u001b[0m\n\u001b[1;32m----> 3\u001b[1;33m     \u001b[1;32mif\u001b[0m \u001b[0mname\u001b[0m \u001b[1;32min\u001b[0m \u001b[0mcontacts\u001b[0m\u001b[1;33m:\u001b[0m\u001b[1;33m\u001b[0m\u001b[1;33m\u001b[0m\u001b[0m\n\u001b[0m\u001b[0;32m      4\u001b[0m         \u001b[0mprint\u001b[0m\u001b[1;33m(\u001b[0m\u001b[0mname\u001b[0m\u001b[1;33m)\u001b[0m\u001b[1;33m\u001b[0m\u001b[1;33m\u001b[0m\u001b[0m\n\u001b[0;32m      5\u001b[0m         \u001b[0mprint\u001b[0m\u001b[1;33m(\u001b[0m\u001b[1;34m\"phone :\"\u001b[0m\u001b[1;33m,\u001b[0m \u001b[0mcontacts\u001b[0m\u001b[1;33m[\u001b[0m\u001b[0mname\u001b[0m\u001b[1;33m]\u001b[0m\u001b[1;33m[\u001b[0m\u001b[1;36m0\u001b[0m\u001b[1;33m]\u001b[0m\u001b[1;33m)\u001b[0m\u001b[1;33m\u001b[0m\u001b[1;33m\u001b[0m\u001b[0m\n",
      "\u001b[1;31mNameError\u001b[0m: name 'contacts' is not defined"
     ]
    }
   ],
   "source": [
    "def searchcontacts(name):\n",
    "    \n",
    "    if name in contacts:\n",
    "        print(name)\n",
    "        print(\"phone :\", contacts[name][0])\n",
    "        print(\"Email :\", contacts[name][0])\n",
    "    else:\n",
    "        print(\"%s does not exists \" %name)\n",
    "    return\n",
    "searchcontacts(\"name2\")"
   ]
  },
  {
   "cell_type": "code",
   "execution_count": null,
   "metadata": {},
   "outputs": [],
   "source": []
  }
 ],
 "metadata": {
  "kernelspec": {
   "display_name": "Python 3",
   "language": "python",
   "name": "python3"
  },
  "language_info": {
   "codemirror_mode": {
    "name": "ipython",
    "version": 3
   },
   "file_extension": ".py",
   "mimetype": "text/x-python",
   "name": "python",
   "nbconvert_exporter": "python",
   "pygments_lexer": "ipython3",
   "version": "3.7.3"
  }
 },
 "nbformat": 4,
 "nbformat_minor": 2
}
