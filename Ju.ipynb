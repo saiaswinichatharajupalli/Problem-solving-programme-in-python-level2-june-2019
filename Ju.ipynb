{
 "cells": [
  {
   "cell_type": "markdown",
   "metadata": {},
   "source": [
    "### Markdown Basics\n",
    "\n",
    "* **Bold**<br>\n",
    "* *Itallic*<br>\n",
    "* ***IB***  <br>\n",
    "* Normal Text\n",
    "     * Sublist1\n",
    "     * Sublist2\n",
    "     \n",
    "     \n",
    "1. Ordered list element1\n",
    "2. Ordered list element2\n",
    "\n",
    "[Jupyter Logo].(jupyterLogo.png)\n"
   ]
  },
  {
   "cell_type": "markdown",
   "metadata": {},
   "source": []
  },
  {
   "cell_type": "code",
   "execution_count": null,
   "metadata": {},
   "outputs": [],
   "source": []
  }
 ],
 "metadata": {
  "kernelspec": {
   "display_name": "Python 3",
   "language": "python",
   "name": "python3"
  },
  "language_info": {
   "codemirror_mode": {
    "name": "ipython",
    "version": 3
   },
   "file_extension": ".py",
   "mimetype": "text/x-python",
   "name": "python",
   "nbconvert_exporter": "python",
   "pygments_lexer": "ipython3",
   "version": "3.7.3"
  }
 },
 "nbformat": 4,
 "nbformat_minor": 2
}
